{
 "cells": [
  {
   "cell_type": "markdown",
   "metadata": {},
   "source": [
    "## python script for processing RAD data in ``cstacks`` ##"
   ]
  },
  {
   "cell_type": "markdown",
   "metadata": {},
   "source": [
    "**PURPOSE** This script performs line counts on your fasta or fastq files, then sorts them in descending order. Then, it picks a pre-determined subset of these to use to form a catalog of loci. Lastly, it generates a shell script to run ``cstacks`` on this subset of samples."
   ]
  },
  {
   "cell_type": "markdown",
   "metadata": {},
   "source": [
    "**INPUTS** \n",
    "<br> python  \n",
    "{arg0}[filename.py]\n",
    "<br> {arg1}[changed filenames file] \n",
    "<br> {arg2}[wd for data files] \n",
    "<br> {arg3}[# individuals you want in your catalog]\n",
    "<br> {arg4}[batch number]\n",
    "<br> {arg5}[output directory]\n",
    "<br> {arg6}[# mismatches allowed]\n",
    "<br> {arg7}[# threads to use]\n",
    "<br><br> For example, <br><br>\n",
    "``$ python pypipe_ustacks.py new_filenames.txt ../raw_data 10 2 ../processed_data 3 3``"
   ]
  },
  {
   "cell_type": "markdown",
   "metadata": {},
   "source": [
    "**OUTPUTS** \n",
    "<br> Three files per one input file\n",
    "<br> These files are: (1) catalog alleles, (2) catalog snps, & (3) catalog tags"
   ]
  },
  {
   "cell_type": "markdown",
   "metadata": {},
   "source": [
    "This script looks like:"
   ]
  },
  {
   "cell_type": "code",
   "execution_count": null,
   "metadata": {
    "collapsed": true
   },
   "outputs": [],
   "source": [
    "###--- Natalie's Python Pipeline for Processing RAD data ---###\n",
    "# Pacific Cod Time Series Project #\n",
    "\n",
    "#### WHEN RUNNING THIS SCRIPT\n",
    "## --- INPUTS at command line: python {0}[pypipe_cstacks.py] {1}[txt file with sample names] \n",
    "##\t\t{2}[wd for data files] {3}[# individuals for cstacks] {4}[batch number] {5}[output directory] \n",
    "##\t\t{6}[num mismatches allowed] {7}[num threads]\n",
    "## --- DEPENDENCIES: your file names coming out of ustacks cannot have a period other than before file extension\n",
    "# \t\tcall necessary modules\n",
    "\n",
    "import sys \n",
    "import subprocess # call module that will run shell scripts from this python script\n",
    "\n",
    "### ``cstacks``\n",
    "# **PURPOSE*** ustacks creates a catalog from a subset of individuals to call SNPs\n",
    "# **Input** ustacks out put files of ~10 individuals ?\n",
    "# **Output** ?\n",
    "\n",
    "\n",
    "\n",
    "# ---A) COUNT LINES IN EACH FASTQ FILE. You want to use ~10 individuals to make your \n",
    "#\t\tcatalog, and you want those individuals to have the most sequence reads. You also\n",
    "#\t\twant representation from each of your populations. So fist, a script to get line \n",
    "#\t\tcount for each file.\n",
    "\n",
    "myfile = open(sys.argv[1], \"r\")\t#open the file with your list of barcodes and sample IDs\n",
    "newfile = open(\"cstacks_linecount_shell.txt\", \"w\")\t#create a new file where the ustacks code will go\n",
    "line_cd = sys.argv[2]\n",
    "filestring = \"\"\n",
    "samplename_list = [] # to be used in loop later in this script\n",
    "\n",
    "for line in myfile: \t\t\t\t\t#for each line in the barcode file\n",
    "\tlinelist = line.strip().split()\t\t#make a list of character strings broken by tabs\n",
    "\tsampID = linelist[2]\t\t\t\t#pick out file name\n",
    "\tsamplename_list.append(sampID)\n",
    "\tnewstring = \"gunzip -c \" + sampID + \" | wc -l >> cstacks_linecount.txt\\n\" # make line of code to run at command line\n",
    "\tfilestring += newstring # add to a list of strings we'll write to a file\n",
    "myfile.close()\n",
    "# print filestring # CHECK^\n",
    "newfile.write(filestring) # write to file\n",
    "newfile.close()\n",
    "\n",
    "# run shell script that will calculate line counts\n",
    "subprocess.call(['sh cstacks_linecount_shell.txt'], shell=True)\n",
    "\n",
    "# *** if you have to rerun this script, it will append onto it! make sure no file w name!\n",
    "\n",
    "\n",
    "\n",
    "# ---B) Create a list of lists that has the filename and the number of lines in each \n",
    "#\t\tsublist, and then sort in descending order of second sublist item to pick the most \n",
    "#\t\tprolific ten individuals. \n",
    "\n",
    "linecounts = open(\"cstacks_linecount.txt\", \"r\") # read in line counts file\n",
    "linecounts_list = [] # initiate a list for the line counts so I can get.item later\n",
    "\n",
    "for line in linecounts:\n",
    "\tcount = line.strip().split() # get line count\n",
    "\tlinecounts_list.append(line)\n",
    "\n",
    "list_samp_ct = [] # initiate empty list\n",
    "i = 0 # start counter\n",
    "\n",
    "# --- CHECK^ if lists look normal\n",
    "# print \"sample name list \"\n",
    "# print samplename_list\n",
    "# print \"line counts list \"\n",
    "# print linecounts_list\n",
    "\n",
    "for item in linecounts_list:\n",
    "\tnew_item = [samplename_list[i], linecounts_list[i]]\n",
    "\tlist_samp_ct.append(new_item)\n",
    "\ti += 1\n",
    "\t\n",
    "def getKey(item): # so that sorted will sort by second item in list\n",
    "\treturn item[1]\n",
    "sortedlist = sorted(list_samp_ct, key = getKey, reverse = True)\n",
    "# print sortedlist # CHECK^\n",
    "\n",
    "with open('all_sorted_name_counts.txt', 'w') as file:\n",
    "    file.writelines('\\t'.join(i) + '\\n' for i in sortedlist) # makes file\n",
    "    \n",
    "\n",
    "\n",
    "\n",
    "# --- C) Write shell script that will run ``cstacks``\n",
    "\n",
    "cstacks_shell = \"\"\n",
    "firststr = \"cstacks -b \" + sys.argv[4] + \" \"\n",
    "cstacks_shell += firststr\n",
    "\n",
    "endrange = int(sys.argv[3]) # set end of range for loop\n",
    "for i in range(0, endrange):\n",
    "\tfilename = samplename_list[i]\n",
    "\ttrmd_filename = filename.rsplit(\".\",2)[0]\n",
    "\t# print trmd_filename # CHECK^\n",
    "\tstring = \"-s \" + trmd_filename + \" \"\n",
    "\tcstacks_shell += string\n",
    "laststr = \"-o \" + sys.argv[5] + \" -n \" + sys.argv[6] + \" -p \" + sys.argv[7]\n",
    "cstacks_shell += laststr\n",
    "# print cstacks_shell # CHECK^"
   ]
  },
  {
   "cell_type": "code",
   "execution_count": null,
   "metadata": {
    "collapsed": true
   },
   "outputs": [],
   "source": []
  }
 ],
 "metadata": {
  "anaconda-cloud": {},
  "kernelspec": {
   "display_name": "Python [default]",
   "language": "python",
   "name": "python2"
  },
  "language_info": {
   "codemirror_mode": {
    "name": "ipython",
    "version": 2
   },
   "file_extension": ".py",
   "mimetype": "text/x-python",
   "name": "python",
   "nbconvert_exporter": "python",
   "pygments_lexer": "ipython2",
   "version": "2.7.12"
  }
 },
 "nbformat": 4,
 "nbformat_minor": 1
}
