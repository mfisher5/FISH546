{
 "cells": [
  {
   "cell_type": "markdown",
   "metadata": {},
   "source": [
    "## Too Few Loci Problem\n",
    "\n",
    "20161208\n",
    "\n",
    "I only retained about 6k loci in my run, after Bowtie and Blast filtering, and because I'm using Pacific cod just like Mary, I should be expecting much more than that. Mary has ~ 16k loci. Dan says I should expect 20-40k loci.\n",
    "\n",
    "I want to know whether it was \n",
    "<br>(1) ``populations`` parameters that led to low retained loci\n",
    "<br>(2) the individuals I used in ``cstacks`` that led to low retained loci NOPE\n",
    "<br>(3) or the parameters in ``cstacks`` that led to low retained loci NOPE"
   ]
  },
  {
   "cell_type": "markdown",
   "metadata": {},
   "source": [
    "### Checking ``cstacks``\n",
    "\n",
    "I opened my catalog.tags file for batch 2 (the one where I used 10 individuals with a lot of reads to make the catalog) and there are 53885 tags. That seems like a ton of tags, which suggests to me that the problem might be after ``cstacks``. I went back and reran ``cstacks`` on two individuals from each of my 5 cohorots (the ones with the most reads) and now the number of tags is 53034, so almost the same as previously. It could be that they're better loci that won't get filtered out later, I guess. Worth following through to populations.\n",
    "\n",
    "However, after futzing around with the ``populations`` parameters, I realize that none of them really bring me up to the 15k ish loci that Mary is getting for Pacific cod. This makes me think it is in ``cstacks``. My thought is that I could have used unideal individuals for making the catalog. I should make sure that the individuals I used represent all of the populations.\n",
    "\n"
   ]
  },
  {
   "cell_type": "markdown",
   "metadata": {},
   "source": [
    "### ``populations`` parameters\n",
    "\n",
    "The following parameters will affect how  many loci are retained. \n",
    "\n",
    "<br>-m [int] — specify a minimum stack depth required for individuals at a locus.\n",
    "<br>-r [float] — minimum percentage of individuals in a population required to process a locus for that population.\n",
    "<br>-p [int] — minimum number of populations a locus must be present in to process a locus.\n",
    "\n",
    "Count how many loci were retained after ``populations``, then change parameters and rerun ``populations`` and compare.\n",
    "\n",
    "When I ran the program for batch_2, it looked like this:\n",
    "\n",
    "```\n",
    "!populations -b 2 -P ustacks_out -M popmap1.txt -t 10 -r 0.50 -p 2 -m 5 --genepop\n",
    "```\n",
    "\n",
    "#### Testing -p\n",
    "I'm thinking that this is the issue because I only have 3 populations in this subset (batch_2) of my data, and one of the populations only had 2 individuals. So I'm going to test -p of 1 and -p of 2. Mary usually uses -p of 1 or 2, but she also has 7 populations.\n",
    "\n",
    "My first run of populations (like the line of code above) produced 6165 unique loci\n",
    "\n",
    "For this test, -p of 1, and the rest the same as in batch_2: this produced 6531 unique loci\n",
    "\n",
    "#### Testing -r\n",
    "\n",
    "Try .25 versus .5\n",
    "\n",
    "My first run (like the line of code above) with a -r of .5 produced 6165 unique loci.\n",
    "\n",
    "For this test, -r of .25, the rest as in batch_2: this produced 7025 unique loci.\n",
    "\n",
    "#### Testing -m\n",
    "A -m of 5 is already on the low side, as most people in our lab use a -m of 10. May be worth trying 7 and 10 just to see how this affects number of retained loci.\n",
    "\n",
    "My first run (like the line of code above) with a -m of 5 produced 6165 unique loci.\n",
    "For this test, -m of 7, the rest as in batch_2: this produced 6992 unique loci.\n",
    "For this test, -m of 10, the rest as in batch_2: this produced 6897 unique loci.\n",
    "\n",
    "### Conclusion -- The problem is probably not in the ``populations`` parameters"
   ]
  },
  {
   "cell_type": "code",
   "execution_count": 3,
   "metadata": {
    "collapsed": false
   },
   "outputs": [
    {
     "name": "stdout",
     "output_type": "stream",
     "text": [
      "/Volumes/Time Machine Backups/Cod-Time-Series-Data\n"
     ]
    }
   ],
   "source": [
    "cd /Volumes/Time\\ Machine\\ Backups/Cod-Time-Series-Data/"
   ]
  },
  {
   "cell_type": "code",
   "execution_count": 4,
   "metadata": {
    "collapsed": false
   },
   "outputs": [
    {
     "name": "stdout",
     "output_type": "stream",
     "text": [
      "Fst kernel smoothing: off\r\n",
      "Bootstrap resampling: off\r\n",
      "Percent samples limit per population: 0.5\r\n",
      "Locus Population limit: 1\r\n",
      "Minimum stack depth: 5\r\n",
      "Log liklihood filtering: off; threshold: 0\r\n",
      "Minor allele frequency cutoff: 0\r\n",
      "Maximum observed heterozygosity cutoff: 1\r\n",
      "Applying Fst correction: none.\r\n",
      "Parsing population map...\r\n",
      "The population map contained 26 samples, 3 population(s), 1 group(s).\r\n",
      "Reading the catalog...\r\n",
      " Unable to open 'ustacks_out/batch_100.catalog'\r\n",
      "Unable to load the catalog 'ustacks_out/batch_100.catalog'\r\n"
     ]
    }
   ],
   "source": [
    "!populations -b 2 -P ustacks_out -M popmap1.txt -t 10 -r 0.50 -p 1 -m 5 --genepop"
   ]
  },
  {
   "cell_type": "markdown",
   "metadata": {
    "collapsed": true
   },
   "source": []
  }
 ],
 "metadata": {
  "anaconda-cloud": {},
  "kernelspec": {
   "display_name": "Python [default]",
   "language": "python",
   "name": "python2"
  },
  "language_info": {
   "codemirror_mode": {
    "name": "ipython",
    "version": 2
   },
   "file_extension": ".py",
   "mimetype": "text/x-python",
   "name": "python",
   "nbconvert_exporter": "python",
   "pygments_lexer": "ipython2",
   "version": "2.7.12"
  }
 },
 "nbformat": 4,
 "nbformat_minor": 1
}
