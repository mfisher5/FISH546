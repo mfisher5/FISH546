{
 "cells": [
  {
   "cell_type": "markdown",
   "metadata": {},
   "source": [
    "#### Bash HW\n",
    "\n",
    "I made a bash script that will check to see whether there is an \"L\" in the filenames of any files in your working directory. I have another script that I use to add a library number identifier so that I can combine samples with redundant barcodes (but unique library numbers) into the same batch in the pipeline.\n",
    "\n",
    "<br>\n",
    "First, I change directories to the one with the bash script, where the files in question are."
   ]
  },
  {
   "cell_type": "code",
   "execution_count": 1,
   "metadata": {
    "collapsed": false
   },
   "outputs": [
    {
     "name": "stdout",
     "output_type": "stream",
     "text": [
      "/Users/natalielowell/Desktop/hw_test\n"
     ]
    }
   ],
   "source": [
    "cd /Users/natalielowell/Desktop/hw_test"
   ]
  },
  {
   "cell_type": "markdown",
   "metadata": {},
   "source": [
    "Then, I run the bash script when there are no Ls in the filenames, like here\n",
    "<br>\n",
    "![image]()"
   ]
  },
  {
   "cell_type": "code",
   "execution_count": 3,
   "metadata": {
    "collapsed": false
   },
   "outputs": [
    {
     "name": "stdout",
     "output_type": "stream",
     "text": [
      "you haven't added the L\r\n"
     ]
    }
   ],
   "source": [
    "!./check_lib_id.sh"
   ]
  },
  {
   "cell_type": "markdown",
   "metadata": {},
   "source": [
    "I manually changed one of the filenames to have a L, like here\n",
    "<br>\n",
    "![image]()\n",
    "<br>\n",
    "And reran the code:"
   ]
  },
  {
   "cell_type": "code",
   "execution_count": 4,
   "metadata": {
    "collapsed": false
   },
   "outputs": [
    {
     "name": "stdout",
     "output_type": "stream",
     "text": [
      "you added the L\r\n"
     ]
    }
   ],
   "source": [
    "!./check_lib_id.sh"
   ]
  },
  {
   "cell_type": "code",
   "execution_count": null,
   "metadata": {
    "collapsed": true
   },
   "outputs": [],
   "source": []
  }
 ],
 "metadata": {
  "kernelspec": {
   "display_name": "Python [default]",
   "language": "python",
   "name": "python2"
  },
  "language_info": {
   "codemirror_mode": {
    "name": "ipython",
    "version": 2
   },
   "file_extension": ".py",
   "mimetype": "text/x-python",
   "name": "python",
   "nbconvert_exporter": "python",
   "pygments_lexer": "ipython2",
   "version": "2.7.12"
  }
 },
 "nbformat": 4,
 "nbformat_minor": 1
}
