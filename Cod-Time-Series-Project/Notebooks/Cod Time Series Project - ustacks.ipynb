{
 "cells": [
  {
   "cell_type": "markdown",
   "metadata": {},
   "source": [
    "## python script for processing RAD data in ``ustacks`` ##"
   ]
  },
  {
   "cell_type": "markdown",
   "metadata": {},
   "source": [
    "**PURPOSE** This script renames files from barcode name to sample name, and then runs ``ustacks`` according to arguments you input at the command line."
   ]
  },
  {
   "cell_type": "markdown",
   "metadata": {},
   "source": [
    "**INPUTS** \n",
    "<br> python  \n",
    "<br> {0}[filename.py]\n",
    "<br> {1}[barcodes & samples text file] \n",
    "<br> {2}[start directory] \n",
    "<br> {3}[end directory]\n",
    "<br><br><br> For example, <br><br>\n",
    "``$ python pypipe_ustacks.py barcodes_samplenames.txt raw_data processed_data``"
   ]
  },
  {
   "cell_type": "code",
   "execution_count": 1,
   "metadata": {
    "collapsed": false
   },
   "outputs": [
    {
     "ename": "IOError",
     "evalue": "[Errno 2] No such file or directory: '-f'",
     "output_type": "error",
     "traceback": [
      "\u001b[0;31m---------------------------------------------------------------------------\u001b[0m",
      "\u001b[0;31mIOError\u001b[0m                                   Traceback (most recent call last)",
      "\u001b[0;32m<ipython-input-1-a3daf1087161>\u001b[0m in \u001b[0;36m<module>\u001b[0;34m()\u001b[0m\n\u001b[1;32m     25\u001b[0m \u001b[0;31m# you must first make a tab delimited text file where first col = barcode & second col = unique sample name\u001b[0m\u001b[0;34m\u001b[0m\u001b[0;34m\u001b[0m\u001b[0m\n\u001b[1;32m     26\u001b[0m \u001b[0;34m\u001b[0m\u001b[0m\n\u001b[0;32m---> 27\u001b[0;31m \u001b[0mmyfile\u001b[0m \u001b[0;34m=\u001b[0m \u001b[0mopen\u001b[0m\u001b[0;34m(\u001b[0m\u001b[0msys\u001b[0m\u001b[0;34m.\u001b[0m\u001b[0margv\u001b[0m\u001b[0;34m[\u001b[0m\u001b[0;36m1\u001b[0m\u001b[0;34m]\u001b[0m\u001b[0;34m,\u001b[0m \u001b[0;34m\"r\"\u001b[0m\u001b[0;34m)\u001b[0m                         \u001b[0;31m# myfile =  CSV mentioned, called after your script\u001b[0m\u001b[0;34m\u001b[0m\u001b[0m\n\u001b[0m\u001b[1;32m     28\u001b[0m \u001b[0mnew_file\u001b[0m \u001b[0;34m=\u001b[0m \u001b[0mopen\u001b[0m\u001b[0;34m(\u001b[0m\u001b[0;34m\"new_filenames1.txt\"\u001b[0m\u001b[0;34m,\u001b[0m \u001b[0;34m\"w\"\u001b[0m\u001b[0;34m)\u001b[0m \u001b[0;31m# new txt file\u001b[0m\u001b[0;34m\u001b[0m\u001b[0m\n\u001b[1;32m     29\u001b[0m \u001b[0;32mfor\u001b[0m \u001b[0mline\u001b[0m \u001b[0;32min\u001b[0m \u001b[0mmyfile\u001b[0m\u001b[0;34m:\u001b[0m                                                \u001b[0;31m# loop through each line\u001b[0m\u001b[0;34m\u001b[0m\u001b[0m\n",
      "\u001b[0;31mIOError\u001b[0m: [Errno 2] No such file or directory: '-f'"
     ]
    }
   ],
   "source": [
    "###--- Natalie's Python Pipeline for Processing RAD data ---###\n",
    "# Pacific Cod Time Series Project #\n",
    "\n",
    "\n",
    "### WHEN RUNNING THIS SCRIPT, YOUR INPUTS ARE\n",
    "### python &nbsp;&nbsp;&nbsp;&nbsp;&nbsp;and [pipeline filename] [barcodes & samples textfile] [start directory] [end directory]\n",
    "### python pypipe_ustacks.py barcodes_samplenames.txt raw_data processed_data\n",
    "\n",
    "# call necessary modules\n",
    "\n",
    "import subprocess # call module that will run shell scripts from this python script\n",
    "import sys \n",
    "\n",
    "\n",
    "### ``ustacks``\n",
    "\n",
    "# **PURPOSE*** This step aligns identical RAD tags within an individual\n",
    "# **Input** fastq or gzfastq files\n",
    "# **Output** 4 files - alleles, modules, snps, tags\n",
    "\n",
    "\n",
    "\n",
    "# ---A) Rename your files by the sample name\n",
    "\n",
    "# you must first make a tab delimited text file where first col = barcode & second col = unique sample name\n",
    "\n",
    "myfile = open(sys.argv[1], \"r\")\t\t\t\t# myfile =  CSV mentioned, called after your script\n",
    "new_file = open(\"new_filenames1.txt\", \"w\") # new txt file\n",
    "for line in myfile:\t\t\t\t\t\t   # loop through each line\n",
    "\tlinelist=line.strip().split()\t\t   # splits into list by white space\n",
    "\tbarcodefile = linelist[0] + \"_1.fq.gz\"\n",
    "\t# print barcodefile \t\t\t\t   # troubleshooting loop\n",
    "\tsamplefile = linelist[1] + \"_1.fq.gz\"\n",
    "\t# print samplefile \t\t\t\t\t   # troubleshooting loop\n",
    "\tnewstring = \"mv\" + \"\\t\" + barcodefile + \"\\t\" + samplefile + \"\\n\"\n",
    "\t# print newstring  # troubleshooting loop\n",
    "\tnew_file.write(newstring)\n",
    "\n",
    "myfile.close()\n",
    "new_file.close()\n",
    "\n",
    "# change your working directory to the folder that includes with absolute path\n",
    "subprocess.call(['cd /users/natalielowell/Git-repos/FISH546/Cod-Time-Series-Project/Data/raw_data'], shell=True)\n",
    "\n",
    "# run the script you just made as a shell script to rename your files\n",
    "subprocess.call(['sh new_filenames1.txt'], shell=True)\n",
    "\n",
    "\n",
    "\n",
    "# ---B) Make shell script to run all samples through command line through ``ustacks``\n",
    "\n",
    "# ``ustacks`` requires an arbitrary integer for every sample, although unclear how it gets used as it does not become the name of the file\n",
    "\n",
    "# cd to one folder above where you are calling the fq files and one folder above where you are storing your results\n",
    "subprocess.call(['cd /users/natalielowell/Git-repos/FISH546/Cod-Time-Series-Project/Data/'], shell=True)\n",
    "\n",
    "# name your 'from' and 'to' directories that will go in each line of your ustacks shell script\n",
    "dirfrom = sys.argv[2]\n",
    "dirto = sys.argv[3]\n",
    "\n",
    "\n",
    "newfile = open(\"ustacks_shell.txt\", \"w\")\t # make ustacks shell script to run through terminal\n",
    "myfile = open(\"new_filenames1.txt\", \"r\")\t#open the file with a list of barcodes + sample IDs\n",
    "\n",
    "newfile.write('cd /users/natalielowell/Git-repos/FISH546/Cod-Time-Series-Project/Data/' + '\\n')\n",
    "ID_int = 001\t\t\t\t\t\t\t\t# start integer counter\n",
    "for line in myfile: \t\t\t#for each line in the barcode file\t\n",
    "\tlinelist=line.strip().split()\t\n",
    "\tsampID = linelist[2] \t\t\t\t\t#save the second object as \"sampID\"\n",
    "\tif ID_int < 10: \n",
    "\t\tustacks_code = \"ustacks -t gzfastq -f \" + dirfrom + \"/\" + sampID + \" -r -d -o \" + dirto + \" -i 00\" + str(ID_int) + \" -m 5 -M 3 -p 10\" + \"\\n\"\n",
    "\t\t\t\t\t\t\t\t#create a line of code for ustacks that includes the new sample ID (with 2 leading 0s)\n",
    "\telif ID_int >= 10 & ID_int < 100: \n",
    "\t\tustacks_code = \"ustacks -t gzfastq -f \" + dirfrom + \"/\" + sampID + \" -r -d -o \" + dirto + \" -i 0\" + str(ID_int) + \" -m 5 -M 3 -p 10\" + \"\\n\"\n",
    "\t\t\t\t\t\t\t\t#create a line of code for ustacks that includes the new sample ID (with 1 leading 0)\n",
    "\telse: \n",
    "\t\tustacks_code = \"ustacks -t gzfastq -f \" + dirfrom + \"/\" + sampID + \" -r -d -o \" + dirto + \" -i \" + str(ID_int) + \" -m 5 -M 3 -p 10\" + \"\\n\"\n",
    "\t\t\t\t\t\t\t\t#create a line of code for ustacks that includes the new sample ID (with no leading 0s)\n",
    "\tnewfile.write(ustacks_code)\t#append this new line of code to the output file\n",
    "\tID_int += 1\n",
    "\n",
    "myfile.close()\n",
    "newfile.close()\n",
    "\n",
    "# run this new script through the terminal\n",
    "subprocess.call(['sh ustacks_shell.txt'], shell=True)\n"
   ]
  },
  {
   "cell_type": "code",
   "execution_count": null,
   "metadata": {
    "collapsed": true
   },
   "outputs": [],
   "source": []
  }
 ],
 "metadata": {
  "anaconda-cloud": {},
  "kernelspec": {
   "display_name": "Python [default]",
   "language": "python",
   "name": "python2"
  },
  "language_info": {
   "codemirror_mode": {
    "name": "ipython",
    "version": 2
   },
   "file_extension": ".py",
   "mimetype": "text/x-python",
   "name": "python",
   "nbconvert_exporter": "python",
   "pygments_lexer": "ipython2",
   "version": "2.7.12"
  }
 },
 "nbformat": 4,
 "nbformat_minor": 1
}
