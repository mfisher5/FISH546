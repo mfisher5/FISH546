{
 "cells": [
  {
   "cell_type": "markdown",
   "metadata": {},
   "source": [
    "## Purpose\n",
    "\n",
    "The purpose of this notebook is to document my full application of the Stacks pipeline on my cod data. I've been writing scripts to work on a subset of my files, and now I want to start running them on all of my files.\n",
    "\n",
    "### ``process_radtags`` \n",
    "I don't have to run this on my data because the previous user of the data already did. In my script, however, I also use this opportunity to make folders for the output of each of the Stacks programs. So I'm doing that manually here.\n",
    "\n",
    "\n",
    "### ``ustacks`` on all of my files\n",
    "\n",
    "I'll be working off of my hard drive, so first I had to change directory to there.\n",
    "\n",
    "```\n",
    "D-173-250-177-169:~ natalielowell$ cd /Volumes/Time\\ Machine\\ Backups/Cod-Time-Series-Data/scripts/ \n",
    "D-173-250-177-169:scripts natalielowell$ \n",
    "```"
   ]
  },
  {
   "cell_type": "code",
   "execution_count": null,
   "metadata": {
    "collapsed": true
   },
   "outputs": [],
   "source": []
  }
 ],
 "metadata": {
  "anaconda-cloud": {},
  "kernelspec": {
   "display_name": "Python [default]",
   "language": "python",
   "name": "python2"
  },
  "language_info": {
   "codemirror_mode": {
    "name": "ipython",
    "version": 2
   },
   "file_extension": ".py",
   "mimetype": "text/x-python",
   "name": "python",
   "nbconvert_exporter": "python",
   "pygments_lexer": "ipython2",
   "version": "2.7.12"
  }
 },
 "nbformat": 4,
 "nbformat_minor": 1
}
