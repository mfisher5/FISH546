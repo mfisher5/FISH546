{
 "cells": [
  {
   "cell_type": "markdown",
   "metadata": {},
   "source": [
    "## Purpose\n",
    "\n",
    "The purpose of this notebook is to document my full application of the Stacks pipeline on my cod data. I've been writing scripts to work on a subset of my files, and now I want to start running them on all of my files.\n",
    "\n",
    "### ``process_radtags`` \n",
    "\n",
    "I don't have to run this on my data because the previous user of the data already did. In my script for running ``process_radtags``, however, I also use this opportunity to make folders for the output of each of the Stacks programs. So I'm doing that manually here. Below, you can see these directories plus two folders of cod data (two lanes of data):\n",
    "\n",
    "![image](https://github.com/nclowell/FISH546/blob/master/Cod-Time-Series-Project/Notebooks/images_for_notebooks/Screen%20Shot%202016-11-16%20at%203.10.45%20PM.png?raw=true)\n",
    "\n",
    "### ``ustacks`` on all of my files\n",
    "\n",
    "I'll be working off of my hard drive, so first I had to change directory to there."
   ]
  },
  {
   "cell_type": "code",
   "execution_count": 5,
   "metadata": {
    "collapsed": false
   },
   "outputs": [
    {
     "name": "stdout",
     "output_type": "stream",
     "text": [
      "/Volumes/Time Machine Backups/Cod-Time-Series-Data\n"
     ]
    }
   ],
   "source": [
    "cd /Volumes/Time\\ Machine\\ Backups/Cod-Time-Series-Data/ "
   ]
  },
  {
   "cell_type": "markdown",
   "metadata": {},
   "source": [
    "Another issue is that I have two lanes. It'd be easiest if I could work in only one directory, but their barcodes are redundant. So my first step is to rename the files by adding *_L1* for Library 1 and *_L2* for Library 2. I'll do that in python before the file extension. "
   ]
  },
  {
   "cell_type": "markdown",
   "metadata": {},
   "source": [
    "Here's the content of the script ``add_lib_to_filename.py``:\n",
    "\n",
    "```\n",
    "# arguments\n",
    "# [1] directory name with files to rename \n",
    "# [2] text you would like to add to the end of each filename before file extensions\n",
    "\n",
    "# assumptions\n",
    "# [1] file extention = fq.qz\n",
    "# [2] you are one directory above the directory that you want to rename the files of\n",
    "\n",
    "import sys\n",
    "import subprocess\n",
    "\n",
    "# make a text file that has each thing in this directory on a line; each line should be each file in the lane\n",
    "\n",
    "string1 = \"\" # initiate string\n",
    "\n",
    "string1 += 'ls ' + sys.argv[1] + ' > ./dircontents.txt' # add ls, wd, redirect to text file\n",
    "\n",
    "firstshell = open(\"getcontents_shell.txt\", \"w\")\n",
    "firstshell.write(string1)\n",
    "firstshell.close()\n",
    "\n",
    "subprocess.call([\"sh getcontents_shell.txt\"], shell = True)\n",
    "\n",
    "# now that file is made for contents of directory, read that file in\n",
    "contents = open(\"dircontents.txt\", \"r\")\n",
    "\n",
    "\n",
    "# second shell = renaming script\n",
    "rename_w_lib_shell = open(\"rename_w_lib_shell.txt\", \"w\")\n",
    "\n",
    "string2 = \"\"\n",
    "string2 += \"cd \" + sys.argv[1] + \"\\n\"\n",
    "\n",
    "\n",
    "for line in contents:\n",
    "\toriginal = line.strip()\n",
    "\tfilename_list = line.strip().split(\".\")\n",
    "\tfilename_wo_ext = filename_list[0]\n",
    "\tfilename = filename_wo_ext + sys.argv[2] + \".\" + filename_list[1] + \".\" + filename_list[2]\n",
    "\tstring2 += \"mv\" + \"\\t\" + original + \"\\t\" + filename + \"\\n\"\n",
    "\n",
    "rename_w_lib_shell.write(string2)\n",
    "rename_w_lib_shell.close()\n",
    "\n",
    "# call renaming shell script\n",
    "subprocess.call([\"sh rename_w_lib_shell.txt\"], shell = True)\n",
    "```\n",
    "\n",
    "Running the code looks like this:"
   ]
  },
  {
   "cell_type": "code",
   "execution_count": 8,
   "metadata": {
    "collapsed": false
   },
   "outputs": [],
   "source": [
    "!python add_lib_to_filename.py process_radtags_out/cod_lib1 _L1"
   ]
  },
  {
   "cell_type": "code",
   "execution_count": 9,
   "metadata": {
    "collapsed": true
   },
   "outputs": [],
   "source": [
    "!python add_lib_to_filename.py process_radtags_out/cod_lib2 _L2"
   ]
  },
  {
   "cell_type": "markdown",
   "metadata": {},
   "source": [
    "Now my files are renamed with the library information after the barcode, so that I have no redundant file names."
   ]
  }
 ],
 "metadata": {
  "anaconda-cloud": {},
  "kernelspec": {
   "display_name": "Python [default]",
   "language": "python",
   "name": "python2"
  },
  "language_info": {
   "codemirror_mode": {
    "name": "ipython",
    "version": 2
   },
   "file_extension": ".py",
   "mimetype": "text/x-python",
   "name": "python",
   "nbconvert_exporter": "python",
   "pygments_lexer": "ipython2",
   "version": "2.7.12"
  }
 },
 "nbformat": 4,
 "nbformat_minor": 1
}
