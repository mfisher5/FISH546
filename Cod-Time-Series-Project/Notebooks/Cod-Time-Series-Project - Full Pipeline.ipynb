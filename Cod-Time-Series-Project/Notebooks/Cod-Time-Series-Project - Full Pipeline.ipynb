{
 "cells": [
  {
   "cell_type": "markdown",
   "metadata": {},
   "source": [
    "# Purpose\n",
    "\n",
    "The purpose of this notebook is to document my full application of the Stacks pipeline on my cod data. I've been writing scripts to work on a subset of my files, and now I want to start running them on all of my files.\n",
    "\n",
    "## ``process_radtags`` \n",
    "\n",
    "I don't have to run this on my data because the previous user of the data already did. In my script for running ``process_radtags``, however, I also use this opportunity to make folders for the output of each of the Stacks programs. So I'm doing that manually here. Below, you can see these directories plus two folders of cod data (two lanes of data):\n",
    "\n",
    "![image](https://github.com/nclowell/FISH546/blob/master/Cod-Time-Series-Project/Notebooks/images_for_notebooks/Screen%20Shot%202016-11-16%20at%203.10.45%20PM.png?raw=true)\n",
    "\n",
    "## ``ustacks`` \n",
    "\n",
    "I'll be working off of my hard drive, so first I had to change directory to there."
   ]
  },
  {
   "cell_type": "code",
   "execution_count": 19,
   "metadata": {
    "collapsed": false
   },
   "outputs": [
    {
     "name": "stdout",
     "output_type": "stream",
     "text": [
      "/Volumes/Time Machine Backups/Cod-Time-Series-Data\n"
     ]
    }
   ],
   "source": [
    "cd /Volumes/Time\\ Machine\\ Backups/Cod-Time-Series-Data/ "
   ]
  },
  {
   "cell_type": "markdown",
   "metadata": {},
   "source": [
    "Another issue is that I have two lanes. It'd be easiest if I could work in only one directory, but their barcodes are redundant. So my first step is to rename the files by adding *_L1* for Library 1 and *_L2* for Library 2. I'll do that in python before the file extension. "
   ]
  },
  {
   "cell_type": "markdown",
   "metadata": {},
   "source": [
    "Here's the content of the script ``add_lib_to_filename.py``:\n",
    "\n",
    "```\n",
    "# arguments\n",
    "# [1] directory name with files to rename \n",
    "# [2] text you would like to add to the end of each filename before file extensions\n",
    "\n",
    "# assumptions\n",
    "# [1] file extention = fq.qz\n",
    "# [2] you are one directory above the directory that you want to rename the files of\n",
    "# [3] your files aren't already renamed! --- write an if else loop to make sure it hasn't been run yet when you have the time\n",
    "\n",
    "import sys\n",
    "import subprocess\n",
    "\n",
    "# make a text file that has each thing in this directory on a line; each line should be each file in the lane\n",
    "\n",
    "string1 = \"\" # initiate string\n",
    "\n",
    "string1 += 'ls ' + sys.argv[1] + ' > ./dircontents.txt' # add ls, wd, redirect to text file\n",
    "\n",
    "firstshell = open(\"getcontents_shell.txt\", \"w\")\n",
    "firstshell.write(string1)\n",
    "firstshell.close()\n",
    "\n",
    "subprocess.call([\"sh getcontents_shell.txt\"], shell = True)\n",
    "\n",
    "# now that file is made for contents of directory, read that file in\n",
    "contents = open(\"dircontents.txt\", \"r\")\n",
    "\n",
    "\n",
    "# second shell = renaming script\n",
    "rename_w_lib_shell = open(\"rename_w_lib_shell.txt\", \"w\")\n",
    "\n",
    "string2 = \"\"\n",
    "string2 += \"cd \" + sys.argv[1] + \"\\n\"\n",
    "\n",
    "\n",
    "# loop that will break the script if it's already run to make sure you don't rename files into something wrong!\n",
    "for line in contents:\n",
    "\tlinelist = line.strip().split(\".\")\n",
    "\tif linelist[0][-4] == \"L\":\n",
    "\t\tprint \"CHECK TO SEE IF YOU HAVE ALREADY RENAMED THESE FILES. SCRIPT PAUSED AS WARNING BECAUSE FILES APPEAR RENAMED.\"\n",
    "\t\tsys.exit() # exit script\n",
    "\telse:\n",
    "\t\tcontinue\n",
    "contents.close()\n",
    "\n",
    "\n",
    "\n",
    "contents = open(\"dircontents.txt\", \"r\")\n",
    "for line in contents:\n",
    "\toriginal = line.strip()\n",
    "\tfilename_list = line.strip().split(\".\") # make list out of whole file name with extensions\n",
    "\tfilename_wo_ext = filename_list[0]\n",
    "\tfile_ext = \".\" + filename_list[1] + \".\" + filename_list[2]\n",
    "\twordlist = filename_wo_ext.split(\"_\") # split filename without extensions into parts by underscore\n",
    "\tnewfilename = wordlist[0] + \"_\" + sys.argv[2] + \"_\" + wordlist[1]\n",
    "\tnewfilename += file_ext\n",
    "\tstring2 += \"mv\" + \"\\t\" + original + \"\\t\" + newfilename + \"\\n\"\n",
    "\n",
    "rename_w_lib_shell.write(string2)\n",
    "rename_w_lib_shell.close()\n",
    "contents.close()\n",
    "\n",
    "# call renaming shell script\n",
    "subprocess.call([\"sh rename_w_lib_shell.txt\"], shell = True)\n",
    "\n",
    "```\n",
    "\n",
    "Running the code looks like this:"
   ]
  },
  {
   "cell_type": "code",
   "execution_count": 37,
   "metadata": {
    "collapsed": false
   },
   "outputs": [],
   "source": [
    "!python add_lib_to_filename.py process_radtags_out/cod_lib1 _L1"
   ]
  },
  {
   "cell_type": "code",
   "execution_count": 18,
   "metadata": {
    "collapsed": false
   },
   "outputs": [
    {
     "name": "stdout",
     "output_type": "stream",
     "text": [
      "CHECK TO SEE IF YOU HAVE ALREADY RENAMED THESE FILES. SCRIPT PAUSED AS WARNING BECAUSE FILES APPEAR RENAMED.\r\n"
     ]
    }
   ],
   "source": [
    "!python add_lib_to_filename.py process_radtags_out/cod_lib2 _L2"
   ]
  },
  {
   "cell_type": "markdown",
   "metadata": {},
   "source": [
    "Now my files are renamed with the library information after the barcode before their 1 or 2 that was used to signify forward and reverse for paired end data.\n",
    "\n",
    "<br>\n",
    "![image]()\n",
    "\n",
    "ct/Notebooks/images_for_notebooks/Screen%20Shot%202016-11-16%20at%205.24.57%20PM.png?raw=true)\n",
    "\n",
    "<br>\n",
    "<br>\n",
    "Now I want to run ``ustacks`` on all the files in this folder. I can use my handy dandy script I wrote a couple of weeks ago. It looks like this:\n",
    "\n",
    "```\n",
    "##########################################################################################\n",
    "# \n",
    "### ``ustacks``\n",
    "#\n",
    "# PURPOSE: This step aligns identical RAD tags within an individual into stacks & provides data for calling SNPs\n",
    "# INPUT: fastq or gzfastq files\n",
    "# OUTPUT: 4 files - alleles, modules, snps, tags\n",
    "# \n",
    "# \n",
    "### WHEN RUNNING THIS SCRIPT, YOUR INPUTS AT THE COMMAND LINE ARE:\n",
    "# python  \n",
    "# {0}[pipeline filename] \n",
    "# {1}[barcodes & samples textfile] \n",
    "# {2}[start directory] \n",
    "# {3}[end directory]\n",
    "# \n",
    "### DEPENDENCIES\n",
    "# \n",
    "# [1] You need a file where first column is barcode and second is unique sample name\n",
    "# \n",
    "### WARNINGS\n",
    "# \n",
    "# [1] ustacks only works when your working directory is one direcotry above the folders you are\n",
    "#\t\tcalling and storing data in \n",
    "# \n",
    "##########################################################################################\n",
    "\n",
    "# --- [A] call necessary modules\n",
    "\n",
    "import subprocess\n",
    "import sys \n",
    "\n",
    "\n",
    "\n",
    "\n",
    "\n",
    "# --- [B] Rename your files by the sample name\n",
    "\n",
    "new_file = open(\"new_filenames_shell.txt\", \"w\") # new txt file\n",
    "dir = sys.argv[2] # directory files that need names changed\n",
    "firststr = \"cd \" + dir + \"\\n\"\n",
    "new_file.write(firststr)\n",
    "\n",
    "myfile = open(sys.argv[1], \"r\")\t\t\t\t# myfile =  tab delimited file mentioned, called after your script\n",
    "\n",
    "for line in myfile:\t\t\t\t\t\t   # loop through each line\n",
    "\tlinelist=line.strip().split()\t\t   # splits into list by white space\n",
    "\tbarcodefile = linelist[0] + \"_1.fq.gz\"\n",
    "\t# print barcodefile \t\t\t\t   # troubleshooting loop\n",
    "\tsamplefile = linelist[1] + \"_1.fq.gz\"\n",
    "\t# print samplefile \t\t\t\t\t   # troubleshooting loop\n",
    "\tnewstring = \"mv\" + \"\\t\" + barcodefile + \"\\t\" + samplefile + \"\\n\"\n",
    "\t# print newstring  # troubleshooting loop\n",
    "\tnew_file.write(newstring)\n",
    "\n",
    "myfile.close()\n",
    "new_file.close()\n",
    "\n",
    "# run the script you just made as a shell script to rename your files\n",
    "subprocess.call(['sh new_filenames_shell.txt'], shell=True)\n",
    "\n",
    " \n",
    "\n",
    "\n",
    "\n",
    "### --- [C] Make shell script to run all samples through command line through ``ustacks``\n",
    "\n",
    "# ``ustacks`` requires an arbitrary integer for every sample, although unclear how it gets used as it does not become the name of the file\n",
    "\n",
    "\n",
    "# name your 'from' and 'to' directories that will go in each line of your ustacks shell script\n",
    "dirfrom = sys.argv[2]\n",
    "dirto = sys.argv[3]\n",
    "\n",
    "newfile2 = open(\"ustacks_shell.txt\", \"w\")\t # make ustacks shell script to run through terminal\n",
    "myfile = open(\"new_filenames_shell.txt\", \"r\")\t#open the file with a list of barcodes + sample IDs\n",
    "\n",
    "# dir = sys.argv[2] # directory files that need names changed\n",
    "# firststr = \"cd \" + dir + \"\\n\"\n",
    "# new_file.write(firststr)\n",
    "\n",
    "dir2 = sys.argv[2] # directory with files that we want to run ustacks on\n",
    "firststr_2 = \"cd \" + dir2 + \"\\n\"\n",
    "newfile2.write(firststr_2)\n",
    "\n",
    "ID_int = 001\t\t\t\t\t\t\t\t# start integer counter\n",
    "for line in myfile: \t\t\t#for each line in the barcode file\t\n",
    "\tlinelist=line.strip().split()\t\n",
    "\tsampID = linelist[2] \t\t\t\t\t#save the second object as \"sampID\"\n",
    "\tif ID_int < 10: \n",
    "\t\tustacks_code = \"ustacks -t gzfastq -f \" + dirfrom + \"/\" + sampID + \" -r -d -o \" + dirto + \" -i 00\" + str(ID_int) + \" -m 5 -M 3 -p 10\" + \"\\n\"\n",
    "\t\t\t\t\t\t\t\t#create a line of code for ustacks that includes the new sample ID (with 2 leading 0s)\n",
    "\telif ID_int >= 10 & ID_int < 100: \n",
    "\t\tustacks_code = \"ustacks -t gzfastq -f \" + dirfrom + \"/\" + sampID + \" -r -d -o \" + dirto + \" -i 0\" + str(ID_int) + \" -m 5 -M 3 -p 10\" + \"\\n\"\n",
    "\t\t\t\t\t\t\t\t#create a line of code for ustacks that includes the new sample ID (with 1 leading 0)\n",
    "\telse: \n",
    "\t\tustacks_code = \"ustacks -t gzfastq -f \" + dirfrom + \"/\" + sampID + \" -r -d -o \" + dirto + \" -i \" + str(ID_int) + \" -m 5 -M 3 -p 10\" + \"\\n\"\n",
    "\t\t\t\t\t\t\t\t#create a line of code for ustacks that includes the new sample ID (with no leading 0s)\n",
    "\tnewfile2.write(ustacks_code)\t#append this new line of code to the output file\n",
    "\tID_int += 1\n",
    "\n",
    "myfile.close()\n",
    "newfile2.close()\n",
    "\n",
    "# run this new script through the terminal\n",
    "subprocess.call(['sh ustacks_shell.txt'], shell=True)\n",
    "\n",
    "##########################################################################################\n",
    "\n",
    "### --- DOCUMENTATION FOR USTACKS\n",
    "# ustacks -t file_type -f file_path [-d] [-r] [-o path] [-i id] [-m min_cov] [-M max_dist] [-p num_threads] [-R] [-H] [-h]\n",
    "# t — input file Type. Supported types: fasta, fastq, gzfasta, or gzfastq.\n",
    "# f — input file path.\n",
    "# o — output path to write results.\n",
    "# i — SQL ID to insert into the output to identify this sample.\n",
    "# m — Minimum depth of coverage required to create a stack (default 2).\n",
    "# M — Maximum distance (in nucleotides) allowed between stacks (default 2).\n",
    "# N — Maximum distance allowed to align secondary reads to primary stacks (default: M + 2).\n",
    "# R — retain unused reads.\n",
    "# H — disable calling haplotypes from secondary reads.\n",
    "# p — enable parallel execution with num_threads threads.\n",
    "# h — display this help messsage.\n",
    "# Stack assembly options:\n",
    "# \n",
    "# r — enable the Removal algorithm, to drop highly-repetitive stacks (and nearby errors) from the algorithm.\n",
    "# d — enable the Deleveraging algorithm, used for resolving over merged tags.\n",
    "# --max_locus_stacks [num] — maximum number of stacks at a single de novo locus (default 3).\n",
    "# --k_len [len] — specify k-mer size for matching between alleles and loci (automatically calculated by default).\n",
    "# Gapped assembly options:\n",
    "# \n",
    "# --gapped — preform gapped alignments between stacks.\n",
    "# --max_gaps — number of gaps allowed between stacks before merging (default: 2).\n",
    "# --min_aln_len — minimum length of aligned sequence in a gapped alignment (default: 0.80).\n",
    "# Model options:\n",
    "# \n",
    "# --model_type [type] — either 'snp' (default), 'bounded', or 'fixed'\n",
    "# For the SNP or Bounded SNP model:\n",
    "# --alpha [num] — chi square significance level required to call a heterozygote or homozygote, either 0.1, 0.05 (default), 0.01, or 0.001.\n",
    "# For the Bounded SNP model:\n",
    "# --bound_low [num] — lower bound for epsilon, the error rate, between 0 and 1.0 (default 0).\n",
    "# --bound_high [num] — upper bound for epsilon, the error rate, between 0 and 1.0 (default 1).\n",
    "# For the Fixed model:\n",
    "# --bc_err_freq [num] — specify the barcode error frequency, between 0 and 1.0.\n",
    "```\n",
    "\n",
    "And I run it like this:"
   ]
  },
  {
   "cell_type": "code",
   "execution_count": 25,
   "metadata": {
    "collapsed": false
   },
   "outputs": [
    {
     "data": {
      "text/plain": [
       "u'/Volumes/Time Machine Backups/Cod-Time-Series-Data'"
      ]
     },
     "execution_count": 25,
     "metadata": {},
     "output_type": "execute_result"
    }
   ],
   "source": [
    "pwd"
   ]
  },
  {
   "cell_type": "code",
   "execution_count": 26,
   "metadata": {
    "collapsed": false
   },
   "outputs": [
    {
     "name": "stdout",
     "output_type": "stream",
     "text": [
      "mv: rename AAACGG_L1_1.fq.gz to 2005_387_1.fq.gz: No such file or directory\n",
      "mv: rename GCCGTA_L1_1.fq.gz to 2005_388_1.fq.gz: No such file or directory\n",
      "mv: rename ACTCTT_L1_1.fq.gz to 2005_389_1.fq.gz: No such file or directory\n",
      "mv: rename TTCTAG_L1_1.fq.gz to 2005_457_1.fq.gz: No such file or directory\n",
      "mv: rename ATTCCG_L1_1.fq.gz to 2009_172_1.fq.gz: No such file or directory\n",
      "mv: rename CCGCAT_L1_1.fq.gz to 2010_114_1.fq.gz: No such file or directory\n",
      "mv: rename CGAGGC_L1_1.fq.gz to 2010_115_1.fq.gz: No such file or directory\n",
      "mv: rename CGCAGA_L1_1.fq.gz to 2010_116_1.fq.gz: No such file or directory\n",
      "mv: rename GAGAGA_L1_1.fq.gz to 2010_117_1.fq.gz: No such file or directory\n",
      "mv: rename GGGGCG_L1_1.fq.gz to 2010_118_1.fq.gz: No such file or directory\n",
      "mv: rename TAATTC_L1_1.fq.gz to 2010_119_1.fq.gz: No such file or directory\n",
      "mv: rename TTTAAT_L1_1.fq.gz to 2010_123_1.fq.gz: No such file or directory\n",
      "mv: rename AGCCAT_L1_1.fq.gz to 2005_459_1.fq.gz: No such file or directory\n",
      "mv: rename AGTAGG_L1_1.fq.gz to 2005_462_1.fq.gz: No such file or directory\n",
      "mv: rename ATAGTA_L1_1.fq.gz to 2005_463_1.fq.gz: No such file or directory\n",
      "mv: rename CGGTCC_L1_1.fq.gz to 2005_464_1.fq.gz: No such file or directory\n",
      "mv: rename CCATTT_L1_1.fq.gz to 2009_173_1.fq.gz: No such file or directory\n",
      "mv: rename CAGGCA_L1_1.fq.gz to 2010_127_1.fq.gz: No such file or directory\n",
      "mv: rename GCAGAT_L1_1.fq.gz to 2010_184_1.fq.gz: No such file or directory\n",
      "mv: rename GTCATC_L1_1.fq.gz to 2010_185_1.fq.gz: No such file or directory\n",
      "mv: rename GACTCT_L1_1.fq.gz to 2010_187_1.fq.gz: No such file or directory\n",
      "mv: rename TATCAC_L1_1.fq.gz to 2010_188_1.fq.gz: No such file or directory\n",
      "mv: rename TGGGGA_L1_1.fq.gz to 2010_189_1.fq.gz: No such file or directory\n",
      "mv: rename TCTCGG_L1_1.fq.gz to 2010_211_1.fq.gz: No such file or directory\n",
      "mv: rename TGACAA_L2_1.fq.gz to 2005_465_1.fq.gz: No such file or directory\n",
      "mv: rename AATATC_L2_1.fq.gz to 2005_466_1.fq.gz: No such file or directory\n",
      "mv: rename ACAGCG_L2_1.fq.gz to 2005_467_1.fq.gz: No such file or directory\n",
      "mv: rename GATCGT_L2_1.fq.gz to 2005_495_1.fq.gz: No such file or directory\n",
      "mv: rename GGTTTG_L2_1.fq.gz to 2009_176_1.fq.gz: No such file or directory\n",
      "mv: rename CTCGCC_L2_1.fq.gz to 2010_212_1.fq.gz: No such file or directory\n",
      "mv: rename GTGCCT_L2_1.fq.gz to 2010_213_1.fq.gz: No such file or directory\n",
      "mv: rename TAGTAT_L2_1.fq.gz to 2010_215_1.fq.gz: No such file or directory\n",
      "mv: rename ACAAGA_L2_1.fq.gz to 2010_216_1.fq.gz: No such file or directory\n",
      "mv: rename TTCCGT_L2_1.fq.gz to 2010_218_1.fq.gz: No such file or directory\n",
      "mv: rename CCCTAA_L2_1.fq.gz to 2010_219_1.fq.gz: No such file or directory\n",
      "mv: rename AGGGTC_L2_1.fq.gz to 2010_220_1.fq.gz: No such file or directory\n",
      "mv: rename CAATCG_L2_1.fq.gz to 2005_559_1.fq.gz: No such file or directory\n",
      "mv: rename GAACCA_L2_1.fq.gz to 2005_297_1.fq.gz: No such file or directory\n",
      "mv: rename TCGGAC_L2_1.fq.gz to 2005_298_1.fq.gz: No such file or directory\n",
      "mv: rename ATGTTG_L2_1.fq.gz to 2009_171_1.fq.gz: No such file or directory\n",
      "mv: rename AACTGA_L2_1.fq.gz to 2010_221_1.fq.gz: No such file or directory\n",
      "mv: rename TCTTCT_L2_1.fq.gz to 2010_222_1.fq.gz: No such file or directory\n",
      "mv: rename GGACTT_L2_1.fq.gz to 2010_240_1.fq.gz: No such file or directory\n",
      "mv: rename GGGCGC_L2_1.fq.gz to 2010_242_1.fq.gz: No such file or directory\n",
      "mv: rename ATCAAA_L2_1.fq.gz to 2010_243_1.fq.gz: No such file or directory\n",
      "mv: rename GGCAAG_L2_1.fq.gz to 2010_244_1.fq.gz: No such file or directory\n",
      "mv: rename CATACT_L2_1.fq.gz to 2010_246_1.fq.gz: No such file or directory\n",
      "mv: rename CGCGTG_L2_1.fq.gz to 2010_247_1.fq.gz: No such file or directory\n",
      "mv: rename AACGTT_L2_1.fq.gz to 2010_251_1.fq.gz: No such file or directory\n",
      "mv: rename AAGACG_L2_1.fq.gz to 2010_266_1.fq.gz: No such file or directory\n",
      "mv: rename AAGCTA_L2_1.fq.gz to 2010_564_1.fq.gz: No such file or directory\n",
      "mv: rename AATGAG_L2_1.fq.gz to 2010_565_1.fq.gz: No such file or directory\n",
      "mv: rename ACATAC_L2_1.fq.gz to 2010_568_1.fq.gz: No such file or directory\n",
      "mv: rename ACCATG_L2_1.fq.gz to 2010_569_1.fq.gz: No such file or directory\n",
      "mv: rename ACCCCC_L2_1.fq.gz to 2010_572_1.fq.gz: No such file or directory\n",
      "mv: rename ACTGGC_L2_1.fq.gz to 2010_858_1.fq.gz: No such file or directory\n",
      "mv: rename AGCGCA_L2_1.fq.gz to 2010_250_1.fq.gz: No such file or directory\n",
      "mv: rename AGGTGT_L2_1.fq.gz to 2009_537_1.fq.gz: No such file or directory\n",
      "mv: rename AGTTAA_L2_1.fq.gz to 2009_124_1.fq.gz: No such file or directory\n",
      "mv: rename ATGCAC_L2_1.fq.gz to 2009_169_1.fq.gz: No such file or directory\n",
      "mv: rename GAAATG_L1_1.fq.gz to 2005_465_2_1.fq.gz: No such file or directory\n",
      "mv: rename GACGAC_L1_1.fq.gz to 2009_123_1.fq.gz: No such file or directory\n",
      "mv: rename GCATGG_L1_1.fq.gz to 2009_147_1.fq.gz: No such file or directory\n",
      "mv: rename GCGACC_L1_1.fq.gz to 2009_164_1.fq.gz: No such file or directory\n",
      "mv: rename GCGCTG_L1_1.fq.gz to 2009_170_1.fq.gz: No such file or directory\n",
      "mv: rename GCTCAA_L1_1.fq.gz to 2009_174_1.fq.gz: No such file or directory\n",
      "mv: rename GGTACA_L1_1.fq.gz to 2009_178_1.fq.gz: No such file or directory\n",
      "mv: rename GTAAGT_L1_1.fq.gz to 2009_532_1.fq.gz: No such file or directory\n",
      "mv: rename GTATCC_L1_1.fq.gz to 2009_536_1.fq.gz: No such file or directory\n",
      "mv: rename GTGTAA_L1_1.fq.gz to 2005_466_2_1.fq.gz: No such file or directory\n",
      "mv: rename GTTGGA_L1_1.fq.gz to 2009_141_1.fq.gz: No such file or directory\n",
      "mv: rename TTTGTC_L1_1.fq.gz to 2009_124_2_1.fq.gz: No such file or directory\n",
      "mv: rename TAAGCT_L2_1.fq.gz to 2005_299_1.fq.gz: No such file or directory\n",
      "mv: rename TACACA_L2_1.fq.gz to 2005_460_1.fq.gz: No such file or directory\n",
      "mv: rename TACGGG_L2_1.fq.gz to 2005_461_1.fq.gz: No such file or directory\n",
      "mv: rename TCAAAG_L2_1.fq.gz to 2005_384_1.fq.gz: No such file or directory\n",
      "mv: rename TCCTGC_L2_1.fq.gz to 2005_385_1.fq.gz: No such file or directory\n",
      "mv: rename TCGCCA_L2_1.fq.gz to 2009_127_1.fq.gz: No such file or directory\n",
      "mv: rename TGAACC_L2_1.fq.gz to 2009_128_1.fq.gz: No such file or directory\n",
      "mv: rename TGCCCG_L2_1.fq.gz to 2009_129_1.fq.gz: No such file or directory\n",
      "mv: rename TGCTTA_L2_1.fq.gz to 2009_131_1.fq.gz: No such file or directory\n",
      "mv: rename TTATGA_L2_1.fq.gz to 2009_135_1.fq.gz: No such file or directory\n",
      "mv: rename TTGAGC_L2_1.fq.gz to 2009_141_2_1.fq.gz: No such file or directory\n",
      "mv: rename GAAATG_L2_1.fq.gz to 2014_174_1.fq.gz: No such file or directory\n",
      "mv: rename GACGAC_L2_1.fq.gz to 2014_203_1.fq.gz: No such file or directory\n",
      "mv: rename GCATGG_L2_1.fq.gz to 2014_204_1.fq.gz: No such file or directory\n",
      "mv: rename GCGACC_L2_1.fq.gz to 2014_205_1.fq.gz: No such file or directory\n",
      "mv: rename GCGCTG_L2_1.fq.gz to 2014_207_1.fq.gz: No such file or directory\n",
      "mv: rename GCTCAA_L2_1.fq.gz to 2015_016_1.fq.gz: No such file or directory\n",
      "mv: rename GGTACA_L2_1.fq.gz to 2015_100_1.fq.gz: No such file or directory\n",
      "mv: rename GTAAGT_L2_1.fq.gz to 2015_101_1.fq.gz: No such file or directory\n",
      "mv: rename GTATCC_L2_1.fq.gz to 2015_102_1.fq.gz: No such file or directory\n",
      "mv: rename GTGTAA_L2_1.fq.gz to 2015_139_1.fq.gz: No such file or directory\n",
      "mv: rename GTTGGA_L2_1.fq.gz to 2015_140_1.fq.gz: No such file or directory\n",
      "mv: rename TTTGTC_L2_1.fq.gz to 2015_141_1.fq.gz: No such file or directory\n",
      "mv: rename TAAGCT_L1_1.fq.gz to 2014_232_1.fq.gz: No such file or directory\n",
      "mv: rename TACACA_L1_1.fq.gz to 2014_208_1.fq.gz: No such file or directory\n",
      "mv: rename TACGGG_L1_1.fq.gz to 2014_218_1.fq.gz: No such file or directory\n",
      "mv: rename TCAAAG_L1_1.fq.gz to 2014_223_1.fq.gz: No such file or directory\n",
      "mv: rename TCCTGC_L1_1.fq.gz to 2014_224_1.fq.gz: No such file or directory\n",
      "mv: rename TCGCCA_L1_1.fq.gz to 2015_103_1.fq.gz: No such file or directory\n",
      "mv: rename TGAACC_L1_1.fq.gz to 2015_105_1.fq.gz: No such file or directory\n",
      "mv: rename TGCCCG_L1_1.fq.gz to 2015_138_1.fq.gz: No such file or directory\n",
      "mv: rename TGCTTA_L1_1.fq.gz to 2014_128_1.fq.gz: No such file or directory\n",
      "mv: rename TTATGA_L1_1.fq.gz to 2014_129_1.fq.gz: No such file or directory\n",
      "mv: rename TTGAGC_L1_1.fq.gz to 2014_130_1.fq.gz: No such file or directory\n",
      "Traceback (most recent call last):\n",
      "  File \"pypipe_ustacks.py\", line 89, in <module>\n",
      "    sampID = linelist[2] \t\t\t\t\t#save the second object as \"sampID\"\n",
      "IndexError: list index out of range\n"
     ]
    }
   ],
   "source": [
    "!python pypipe_ustacks.py barcodes_samplenames.txt process_radtags_out ustacks_out"
   ]
  },
  {
   "cell_type": "markdown",
   "metadata": {},
   "source": [
    "testing script to fix my stupid naming"
   ]
  },
  {
   "cell_type": "code",
   "execution_count": 36,
   "metadata": {
    "collapsed": false
   },
   "outputs": [
    {
     "name": "stdout",
     "output_type": "stream",
     "text": [
      "usage: mv [-f | -i | -n] [-v] source target\r\n",
      "       mv [-f | -i | -n] [-v] source ... directory\r\n"
     ]
    }
   ],
   "source": [
    "!python swap_readn_lib.py ./process_radtags_out"
   ]
  },
  {
   "cell_type": "code",
   "execution_count": null,
   "metadata": {
    "collapsed": true
   },
   "outputs": [],
   "source": []
  }
 ],
 "metadata": {
  "anaconda-cloud": {},
  "kernelspec": {
   "display_name": "Python [default]",
   "language": "python",
   "name": "python2"
  },
  "language_info": {
   "codemirror_mode": {
    "name": "ipython",
    "version": 2
   },
   "file_extension": ".py",
   "mimetype": "text/x-python",
   "name": "python",
   "nbconvert_exporter": "python",
   "pygments_lexer": "ipython2",
   "version": "2.7.12"
  }
 },
 "nbformat": 4,
 "nbformat_minor": 1
}
