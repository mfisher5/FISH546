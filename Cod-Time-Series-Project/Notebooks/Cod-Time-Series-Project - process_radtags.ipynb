{
 "cells": [
  {
   "cell_type": "markdown",
   "metadata": {},
   "source": [
    "## python script for processing RAD data with ``process_radtags`` ##"
   ]
  },
  {
   "cell_type": "markdown",
   "metadata": {},
   "source": [
    "**PURPOSE** This script creates directories to store output files of each milestone in the Stacks pipeline. It also runs ``process_radtags`` on your raw data file, which is a program that demultiplexes, cleans, and trims the data."
   ]
  },
  {
   "cell_type": "markdown",
   "metadata": {},
   "source": [
    "**INPUTS** <br>\n",
    "python  \n",
    "{arg0}[name of script file]\n",
    "<br> {arg1}[number of files you'll be running through process_radtags]\n",
    "<br> {arg2}[directory with raw sequence files]\n",
    "<br> {arg3}[input sequence file type]\n",
    "<br> {arg4}[output sequence file type]\n",
    "<br> {arg5}[directory for output files]\n",
    "<br> {arg6}[filepath to text file with barcodes]\n",
    "<br> {arg7}[length to trim sequences based on fastqc results]"
   ]
  },
  {
   "cell_type": "markdown",
   "metadata": {},
   "source": [
    "**OUTPUTS** \n",
    "<br> [1] Named directories for the output files of each milestone in the Stacks pipeline\n",
    "<br> [2] A group of sequence file (you determine type) that is demultiplexed, cleaned, and trimmed"
   ]
  },
  {
   "cell_type": "markdown",
   "metadata": {},
   "source": [
    "This is what the script looks like:"
   ]
  },
  {
   "cell_type": "code",
   "execution_count": null,
   "metadata": {
    "collapsed": true
   },
   "outputs": [],
   "source": [
    "### --- Natalie's Python Pipeline for Processing RAD data \n",
    "# Pacific Cod Time Series Project\n",
    "\n",
    "### PURPOSE\n",
    "# This script is for making directories you will need to store files after each milestone in\n",
    "# the Stacks pipeline. In addition, it will run process_radtags on a given raw file from\n",
    "# the sequencing center.\n",
    "\n",
    "### WHEN RUNNING THIS SCRIPT, YOUR INPUTS AT THE COMMAND LINE ARE:\n",
    "# python  \n",
    "# {0}[name of script file]\n",
    "# {1}[number of files you'll be running through process_radtags]\n",
    "# {2}[directory with raw sequence files]\n",
    "# {3}[input sequence file type]\n",
    "# {4}[output sequence file type]\n",
    "# {5}[directory for output files]\n",
    "# {6}[filepath to text file with barcodes]\n",
    "# {7}[length to trim sequences based on fastqc results]\n",
    "\n",
    "### YOUR OUTPUTS WILL BE:\n",
    "# Named directories and a sequence file (you determine file type) that is trimmed, \n",
    "# cleaned, and renamed with the barcode\n",
    "\n",
    "### DEPENDENCIES\n",
    "# [1] You want the following # and names of directories\n",
    "# [2] You used restriction enzyme sbf1\n",
    "# [3] You have quality scores encoded with Phred33\n",
    "# [4] You want to rescue barcodes and RAD-Tags (-r)\n",
    "# [5] You want to clean data, remove any read with an uncalled base (-c)\n",
    "# [6] You want to discard reads with low quality scores (-q)\n",
    "\n",
    "# --- (A) call necessary modules\n",
    "\n",
    "import sys\n",
    "import subprocess\n",
    "\n",
    "# --- (B) make necessary directories for whole project\n",
    "\n",
    "# name your directories\n",
    "dir1 = \"post-fastqc\"\n",
    "dir2 = \"post-ustacks\"\n",
    "dir3 = \"post-cstacks\"\n",
    "dir4 = \"post-stacks\"\n",
    "dir5 = \"post-re-cstacks\"\n",
    "dir6 = \"post-extra-filtering\"\n",
    "dir7 = \"final-files\"\n",
    "dirlist = [dir1, dir2, dir3, dir4, dir5, dir6, dir7] # make into list\n",
    "\n",
    "# open text file for shell script, make string that will be written to the file\n",
    "newfile = open(\"make_proj_dirs.txt\", \"w\")\n",
    "str_for_file = \"\"\n",
    "\n",
    "for i in range(0, len(dirlist)):\n",
    "\tdirname = dirlist[i]\n",
    "\ttempstr = \"mkdir \" + dirname + \"\\n\"\n",
    "\tstr_for_file += tempstr\n",
    "\n",
    "newfile.write(str_for_file) # write string to file\n",
    "newfile.close() # close file\n",
    "\n",
    "# run shell script to make directories\t\n",
    "subprocess.call(['sh make_proj_dirs.txt'], shell=True)\n",
    "\n",
    "# --- (C) process_radtags\n",
    "\n",
    "str_for_prt_file = \"process_radtags -p \" + sys.argv[2] + \" -P  -i \" + sys.argv[3] + \" -y \" + sys.argv[4] + \" -o \" + sys.argv[5] + \" -b \" + sys.argv[6] + \" -e sbfI -E phred33 -r -c -q -t \" + sys.argv[7]\n",
    "\n",
    "prt_file = open(\"process_radtags.txt\", \"w\")\n",
    "prt_file.write(str_for_prt_file)\n",
    "\n",
    "\n",
    "# --- DOCUMENTATION FOR PROCESS_RADTAGS\n",
    "# \n",
    "#  process_radtags [-f in_file | -p in_dir [-P] [-I] | -1 pair_1 -2 pair_2] -b barcode_file -o out_dir -e enz \n",
    "# \n",
    "#                 [-c] [-q] [-r] [-t len] [-D] [-w size] [-s lim] [-h]\n",
    "# f — path to the input file if processing single-end seqeunces.\n",
    "# i — input file type, either 'bustard' for the Illumina BUSTARD format, 'bam', 'fastq' (default), or 'gzfastq' for gzipped FASTQ.\n",
    "# y — output type, either 'fastq', 'gzfastq', 'fasta', or 'gzfasta' (default is to match the input file type).\n",
    "# p — path to a directory of files.\n",
    "# P — files contained within directory specified by '-p' are paired.\n",
    "# I — specify that the paired-end reads are interleaved in single files.\n",
    "# 1 — first input file in a set of paired-end sequences.\n",
    "# 2 — second input file in a set of paired-end sequences.\n",
    "# o — path to output the processed files.\n",
    "# b — path to a file containing barcodes for this run.\n",
    "# c — clean data, remove any read with an uncalled base.\n",
    "# q — discard reads with low quality scores.\n",
    "# r — rescue barcodes and RAD-Tags.\n",
    "# t — truncate final read length to this value.\n",
    "# E — specify how quality scores are encoded, 'phred33' (Illumina 1.8+, Sanger, default) or 'phred64' (Illumina 1.3 - 1.5).\n",
    "# D — capture discarded reads to a file.\n",
    "# w — set the size of the sliding window as a fraction of the read length, between 0 and 1 (default 0.15).\n",
    "# s — set the score limit. If the average score within the sliding window drops below this value, the read is discarded (default 10).\n",
    "# h — display this help messsage.\n"
   ]
  }
 ],
 "metadata": {
  "anaconda-cloud": {},
  "kernelspec": {
   "display_name": "Python [default]",
   "language": "python",
   "name": "python2"
  },
  "language_info": {
   "codemirror_mode": {
    "name": "ipython",
    "version": 2
   },
   "file_extension": ".py",
   "mimetype": "text/x-python",
   "name": "python",
   "nbconvert_exporter": "python",
   "pygments_lexer": "ipython2",
   "version": "2.7.12"
  }
 },
 "nbformat": 4,
 "nbformat_minor": 1
}
