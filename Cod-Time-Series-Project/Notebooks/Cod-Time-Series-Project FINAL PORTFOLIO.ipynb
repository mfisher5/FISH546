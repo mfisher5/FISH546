{
 "cells": [
  {
   "cell_type": "markdown",
   "metadata": {},
   "source": [
    "## Progress towards Cod Time Series data analysis\n",
    "\n",
    "In the tenth week of the quarter, I finally figured out pretty much all of the steps I need to do to get to a solid genepop file that I can use to run statistical tests and answer some of the project's questions. Unfortunately, I still ran into a ton of problems and couldn't run everything through the pipeline by today, the end of the quarter. Nonetheless, I feel like I've learned a ton on processing RADseq data, and am feeling very prepared for my first batch of data-- I just sent off a lane for sequencing last week, so feeling pretty pumped about getting that in a few weeks.\n",
    "\n",
    "One place I got stuck was the final ``bowtie`` step. I misread the instructions for the final ``bowtie`` step, and aligned all of my samples to the reference genome, when I was actually supposed to align each sample separately to the reference genome for feeding into ``pstacks``. This made a huge cumbersome file that slowed me down for a whole day. I figured that out two days ago (and this project is due today!) and realized that I won't have time to rerun ``bowtie`` on each individual and run it through the remainder of the pipeline: ``pstacks``, ``sstacks``, ``populations``, Marine's filtering script, and some sort of stats tests + plots. I had run most of these steps at other times, except for Marine's script and the stats packages. So I figured the best use of my time for the final few days was to learn how to visualize the data, even if it's not my final, most high quality filtered data.\n",
    "\n",
    "I figured I could at least visualize the genepop file that came out of the first round of populations, when I only included samples that had retained at least 20,000 loci from ``ustacks`` (batch3). But when I tried to make a DAPC plot, I kept getting this error:\n",
    "\n",
    "``Error in dudi.pca(x, center = center, scale = scale, scannf = FALSE, nf = maxRank) : \n",
    "  na entries in table``\n",
    "  \n",
    "I decided to subset my genepop file yesteray, and just grabbed the first 50 loci, and it worked fine. This morning, I subsetted the first 200 loci, and it worked fine too, and even showed a little more differentiation between cohorts. So, this morning I wrote a quick script for subsetting genepop files because doing it manually was a huge hassle, and impossible after a few hundred loci. Here's a link to the notebook where I documented that process, and here's a link to that script.\n"
   ]
  }
 ],
 "metadata": {
  "kernelspec": {
   "display_name": "Python [default]",
   "language": "python",
   "name": "python2"
  },
  "language_info": {
   "codemirror_mode": {
    "name": "ipython",
    "version": 2
   },
   "file_extension": ".py",
   "mimetype": "text/x-python",
   "name": "python",
   "nbconvert_exporter": "python",
   "pygments_lexer": "ipython2",
   "version": "2.7.12"
  }
 },
 "nbformat": 4,
 "nbformat_minor": 1
}
