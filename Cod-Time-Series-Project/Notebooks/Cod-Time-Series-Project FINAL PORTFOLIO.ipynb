{
 "cells": [
  {
   "cell_type": "markdown",
   "metadata": {},
   "source": [
    "## Progress towards Cod Time Series data analysis\n",
    "\n",
    "December 14, 2016\n",
    "\n",
    "At the beginning of the quarter, my goal was to look for differences in adaptive differentiation between cohorts of Pacific cod from Puget Sound. I didn't quite make it that far, but I'm still proud of how far I've come! You can see how much progress I made on my final attempt through the pipeline in this notebook [here](https://github.com/nclowell/FISH546/blob/master/Cod-Time-Series-Project/Notebooks/Cod-Time-Series-Project%20Full%20Pipeline%20%2B%20Bowtie%20%2B%20BLAST%20steps.ipynb).\n",
    "\n",
    "Last week, I finally made it thorugh ``populations`` on all of my files, and realized that I have very few loci in my genepop file. I had roughly 50,000 loci per individual after ``ustacks``, but was losing them at some point in ``populations``. I couldn't figure out what was happening, so I tested to see how changing certain parameters affected the number of retained loci after ``populations``. It turns out that tweeking the parameters had a very small affect on the number of retained loci. So, I decided it was worth testing whether the individuals I used for my catalog in ``cstacks`` were causing the problem. I reran the pipeline from ``cstacks`` but my new catalog, with individuals from each cohort and inviduals with the most reads, didn't really change the number of retained loci either. After chatting with my lab mates, I realized that it could have had to do with a few individuals that had degraded DNA. I found out which those were, excluded them from the analysis, and my number of retained loci shot up by about 250%. Here's [the notebook](https://github.com/nclowell/FISH546/blob/master/Cod-Time-Series-Project/Notebooks/Cod-Time-Series-Project%20Solving%20low%20retained%20loci%20problem.ipynb) that describes that adventure.\n",
    "\n",
    "In the tenth week of the quarter, I finally figured out pretty much all of the steps I need to do to get to a solid genepop file that I can use to run statistical tests and answer some of the project's questions. Unfortunately, I still ran into a ton of problems and couldn't run everything through the pipeline by today. One place I got stuck was the final ``bowtie`` step. I misread the instructions for the final ``bowtie`` step, and aligned all of my samples to the reference genome, when I was actually supposed to align each sample separately to the reference genome for feeding into ``pstacks``. This made a huge cumbersome file that slowed me down for a whole day. I figured that out two days ago (and this project is due today!) and realized that I won't have time to rerun ``bowtie`` on each individual and run it through the remainder of the pipeline: ``pstacks``, ``sstacks``, ``populations``, Marine's filtering script, and some sort of stats tests + plots. I had run most of these steps at other times, except for Marine's script and the stats packages. So I figured the best use of my time for the final few days was to learn how to visualize the data, even if it's not my final, most high quality filtered data.\n",
    "\n",
    "I figured I could at least visualize the genepop file that came out of the first round of populations, when I only included samples that had retained at least 20,000 loci from ``ustacks`` (batch3). But when I tried to make a DAPC plot, I kept getting an error about NAs that prevented me from making the plot. Unfortunately, this wasn't a time where Stack Overflow OR our postdocs could help. To try to get around the problem, I decided to subset my genepop file yesteray, and just grabbed the first 50 loci, and the DAPC worked fine. This morning, I subsetted the first 200 loci, and it worked fine too, and even showed a little more differentiation between cohorts. So, this morning I wrote a quick script for subsetting genepop files because doing it manually was a huge hassle, and impossible after a few hundred loci. Here's a [link to the notebook](https://github.com/nclowell/FISH546/blob/master/Cod-Time-Series-Project/Notebooks/Cod-Time-Series-Project%20Effect%20of%20loci%20number%20on%20DAPC.ipynb) where I documented that adventure, and here's a [link to that script](https://github.com/nclowell/FISH546/blob/master/Cod-Time-Series-Project/Scripts/subset_genepop_nloci.py). It seems like the more loci I'm able to include, the more differentiation shows up between cohorts, suggesting that they probably are a bit different and if I could run my whole genepop, the results would be pretty sweet.\n",
    "\n",
    "Despite not achieving the end goal, I feel like I've learned a ton on processing RADseq data and am feeling very prepared for my first batch of data-- I just sent off a lane for sequencing last week, so feeling pretty pumped about getting that in a few weeks. In addition to working towards my data analysis on this cod data, I relearned a ton of python scripting and learned a little [bash scripting](https://github.com/nclowell/FISH546/blob/master/Cod-Time-Series-Project/Scripts/check_lib_id.sh), wrote custom [scripts](https://github.com/nclowell/FISH546/tree/master/Cod-Time-Series-Project/Scripts) for most steps of the pipeline, and wrote [markdown files](https://github.com/nclowell/FISH546/tree/master/Cod-Time-Series-Project/Scripts/Markdown_files_for_scripts) that interpret and demonstrate how to use the scripts. And on top of that, I'm glad I finally got the hang of Git Hub and Jupyter Notebooks."
   ]
  }
 ],
 "metadata": {
  "kernelspec": {
   "display_name": "Python [default]",
   "language": "python",
   "name": "python2"
  },
  "language_info": {
   "codemirror_mode": {
    "name": "ipython",
    "version": 2
   },
   "file_extension": ".py",
   "mimetype": "text/x-python",
   "name": "python",
   "nbconvert_exporter": "python",
   "pygments_lexer": "ipython2",
   "version": "2.7.12"
  }
 },
 "nbformat": 4,
 "nbformat_minor": 1
}
