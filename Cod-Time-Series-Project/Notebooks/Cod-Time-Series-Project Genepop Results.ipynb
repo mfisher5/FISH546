{
 "cells": [
  {
   "cell_type": "markdown",
   "metadata": {},
   "source": [
    "## Genepop Results\n",
    "\n",
    "I installed Genepop on my new machine, and ran pairwise Fst on my genepop file that came out of my full run where I excluded any individuals with less than 20,000 retained loci after ``ustacks`` (b3_20k is how it's called in my other notebook).\n",
    "\n",
    "Here's the old school window in Genepop:\n",
    "\n",
    "![image](https://github.com/nclowell/FISH546/blob/master/Cod-Time-Series-Project/Notebooks/images_for_notebooks/genepopscreenshot.png?raw=true)\n",
    "\n",
    "And the results files are located [here](https://github.com/nclowell/FISH546/tree/master/Cod-Time-Series-Project/Analyses/genepop).\n",
    "\n",
    "The file that calculates the pairwise tests looks like:\n",
    "\n",
    "![image](https://github.com/nclowell/FISH546/blob/master/Cod-Time-Series-Project/Notebooks/images_for_notebooks/Screen%20Shot%202016-12-14%20at%203.45.36%20PM.png?raw=true)\n",
    "\n",
    "The pairwise results:\n",
    "\n",
    "![image](https://github.com/nclowell/FISH546/blob/master/Cod-Time-Series-Project/Notebooks/images_for_notebooks/Screen%20Shot%202016-12-14%20at%203.45.29%20PM.png?raw=true)\n",
    "\n"
   ]
  },
  {
   "cell_type": "markdown",
   "metadata": {},
   "source": [
    "The Fst looks high between pop 2 (2009) and the other pops (2005, 2010, 2014, and 2015), but that's likely all driven by the small sample size for that population. The other pairwise comparisons seem pretty minor. It'd be interesting to look at outlier loci next, which may show a larger signal."
   ]
  }
 ],
 "metadata": {
  "anaconda-cloud": {},
  "kernelspec": {
   "display_name": "Python [default]",
   "language": "python",
   "name": "python2"
  },
  "language_info": {
   "codemirror_mode": {
    "name": "ipython",
    "version": 2
   },
   "file_extension": ".py",
   "mimetype": "text/x-python",
   "name": "python",
   "nbconvert_exporter": "python",
   "pygments_lexer": "ipython2",
   "version": "2.7.12"
  }
 },
 "nbformat": 4,
 "nbformat_minor": 1
}
