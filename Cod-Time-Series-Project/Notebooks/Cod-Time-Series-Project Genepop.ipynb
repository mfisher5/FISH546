{
 "cells": [
  {
   "cell_type": "markdown",
   "metadata": {},
   "source": [
    "#### Genepop\n",
    "\n",
    "I installed Genepop on my new machine, and ran pairwise Fst on my genepop file that came out of my full run where I excluded any individuals with less than 20,000 retained loci after ``ustacks`` (b3_20k is how it's called in my other notebook).\n",
    "\n",
    "Here's the old school window in Genepop:\n",
    "\n",
    "![image](https://github.com/nclowell/FISH546/blob/master/Cod-Time-Series-Project/Notebooks/images_for_notebooks/genepopscreenshot.png?raw=true)\n",
    "\n",
    "And the results files are located here:"
   ]
  }
 ],
 "metadata": {
  "anaconda-cloud": {},
  "kernelspec": {
   "display_name": "Python [default]",
   "language": "python",
   "name": "python2"
  },
  "language_info": {
   "codemirror_mode": {
    "name": "ipython",
    "version": 2
   },
   "file_extension": ".py",
   "mimetype": "text/x-python",
   "name": "python",
   "nbconvert_exporter": "python",
   "pygments_lexer": "ipython2",
   "version": "2.7.12"
  }
 },
 "nbformat": 4,
 "nbformat_minor": 1
}
