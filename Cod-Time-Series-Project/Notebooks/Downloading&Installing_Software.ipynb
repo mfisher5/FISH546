{
 "cells": [
  {
   "cell_type": "markdown",
   "metadata": {},
   "source": [
    "# Stacks\n",
    "\n",
    "Downloading Stacks, version 1.44 on 20161019"
   ]
  },
  {
   "cell_type": "markdown",
   "metadata": {},
   "source": [
    "To install, I navigated to the directory containing the Stacks folder, and in the terminal,\n",
    "\n",
    "``./configure --disable-openmp\n",
    "make``"
   ]
  },
  {
   "cell_type": "markdown",
   "metadata": {},
   "source": [
    "I was having some issues but Dan just helped me out and showed me that ``make clean`` is necessary when you've run ``./configure --disable-openmp\n",
    "make`` incorrectly, and want to run it again."
   ]
  },
  {
   "cell_type": "markdown",
   "metadata": {
    "collapsed": true
   },
   "source": [
    "# Bowtie\n",
    "\n",
    "Downloaded Bowtie, version 1.1.2 on 20161201\n",
    "\n",
    "<br>\n",
    "First attempt using Bowtie, storing the software in the working directory on my hard drive with my cod time series data."
   ]
  },
  {
   "cell_type": "code",
   "execution_count": 1,
   "metadata": {
    "collapsed": false
   },
   "outputs": [
    {
     "name": "stdout",
     "output_type": "stream",
     "text": [
      "/Volumes/Time Machine Backups/Cod-Time-Series-Data\n"
     ]
    }
   ],
   "source": [
    "cd /Volumes/Time\\ Machine\\ Backups/Cod-Time-Series-Data"
   ]
  },
  {
   "cell_type": "code",
   "execution_count": 2,
   "metadata": {
    "collapsed": false
   },
   "outputs": [
    {
     "name": "stdout",
     "output_type": "stream",
     "text": [
      "/Volumes/Time Machine Backups/Cod-Time-Series-Data/Bowtie\n"
     ]
    }
   ],
   "source": [
    "cd Bowtie"
   ]
  },
  {
   "cell_type": "code",
   "execution_count": 4,
   "metadata": {
    "collapsed": false
   },
   "outputs": [
    {
     "ename": "SyntaxError",
     "evalue": "invalid syntax (<ipython-input-4-c912af591af8>, line 1)",
     "output_type": "error",
     "traceback": [
      "\u001b[0;36m  File \u001b[0;32m\"<ipython-input-4-c912af591af8>\"\u001b[0;36m, line \u001b[0;32m1\u001b[0m\n\u001b[0;31m    ./configure --disable-openmp\u001b[0m\n\u001b[0m    ^\u001b[0m\n\u001b[0;31mSyntaxError\u001b[0m\u001b[0;31m:\u001b[0m invalid syntax\n"
     ]
    }
   ],
   "source": [
    "./configure --disable-openmp"
   ]
  },
  {
   "cell_type": "code",
   "execution_count": null,
   "metadata": {
    "collapsed": true
   },
   "outputs": [],
   "source": []
  }
 ],
 "metadata": {
  "anaconda-cloud": {},
  "kernelspec": {
   "display_name": "Python [default]",
   "language": "python",
   "name": "python2"
  },
  "language_info": {
   "codemirror_mode": {
    "name": "ipython",
    "version": 2
   },
   "file_extension": ".py",
   "mimetype": "text/x-python",
   "name": "python",
   "nbconvert_exporter": "python",
   "pygments_lexer": "ipython2",
   "version": "2.7.12"
  }
 },
 "nbformat": 4,
 "nbformat_minor": 1
}
