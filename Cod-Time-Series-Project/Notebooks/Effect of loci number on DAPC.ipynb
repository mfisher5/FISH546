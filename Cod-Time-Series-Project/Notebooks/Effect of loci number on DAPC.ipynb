{
 "cells": [
  {
   "cell_type": "markdown",
   "metadata": {},
   "source": [
    "### Plotting DAPCs with different size subsets of my genepop file\n",
    "\n",
    "\n",
    "In the last couple days working on my project, I hit a road block. When I try to visualize my data with a DAPC, the dudi.pca function in R keeps hitting an error about na's:\n",
    "\n",
    "\n",
    "``Error in dudi.pca(x, center = center, scale = scale, scannf = FALSE, nf = maxRank) : \n",
    "  na entries in table``\n",
    "\n",
    "I haven't been able to fix it, and none of my lab mates have that problem, and I've run it on their computers, and I've searched my genepop file for any abnormalities and found nothing.\n",
    "\n",
    "Just to get a ballpark of what my data looks like, I subsetted the first 50 loci of the genepop file and ran a DAPC, which worked fine. It looked like there was no real differentiation between my cohorts. Then, I subsetted to about 200 loci, and did see some differentiation. So it occurred to me that it might be useful to keep subsetting and plot a bunch of things, just to get a ball park because I likely won't be able to solve my bigger problems this week (when our project is due!! today!!).\n",
    "\n",
    "So this morning I wrote a script that subsets genepop files for a given number of loci. The command line arguments are [i] the genepop file you are subsetting and [ii] the number of loci to subset.\n",
    "\n",
    "Here is the code for the python script:\n",
    "```\n",
    "# Natalie Lowell 20161214\n",
    "# Purpose of script: subset a genepop file to a certain number of loci\n",
    "# Command line arguments: [1] genepop file and [2] number of loci to subset\n",
    "\n",
    "import sys\n",
    "\n",
    "n = int(sys.argv[2]) + 1 # add 1 because the first column is just the same of the \n",
    "\n",
    "# open your genepop file and read lines into a list of lines\n",
    "gpfile = open(sys.argv[1], \"r\") \n",
    "lines = gpfile.readlines()\n",
    "gpfile.close()\n",
    "\n",
    "# open new file for your output file, the truncated genepop file\n",
    "newfilename = \"genepop_\"+str(sys.argv[2])+\"_loci.gen\"\n",
    "newfile = open(newfilename, \"w\")\n",
    "\n",
    "# write the header line with stacks version and date to the new file\n",
    "newfile.write(lines[0])\n",
    "\n",
    "# get header and split into list on commas, for a list of all the loci\n",
    "header_list = lines[1].strip().split(\",\")\n",
    "\n",
    "# grab only the first n, as designated at the command line\n",
    "retrieve_header = header_list[0:int(sys.argv[2])]\n",
    "\n",
    "\n",
    "# initiate string for header line w loci\n",
    "headerstring = \"\" \n",
    "\n",
    "# make a loop to stick the commas back in\n",
    "for locus in retrieve_header:\n",
    "\theaderstring += locus + \",\"\n",
    "\t\n",
    "\t\n",
    "# remove the last comma\n",
    "headerstring = headerstring[:-1]\n",
    "headerstring = headerstring + \"\\n\"\n",
    "\n",
    "# print headerstring # CHECK\n",
    "\t\n",
    "# write it to the file\n",
    "newfile.write(headerstring)\n",
    "\n",
    "# remaining lines = after header w loci\n",
    "remlines = lines[2:]\n",
    "\n",
    "# loop: if pop, write pop. if not pop, truncate line to n and add to file\n",
    "for line in remlines:\n",
    "\tif \"pop\" in line:\n",
    "\t\tnewfile.write(line)\n",
    "\telse:\n",
    "\t\tlinelist = line.strip().split()\n",
    "\t\tkeep = linelist[0:n] # TESTING THIS LINE\n",
    "\t\tnewline = \"\"\n",
    "\t\tprint keep\n",
    "\t\tfor item in keep:\n",
    "\t\t\tnewline += item + \"\\t\"\n",
    "\t\tnewline = newline[:-1] # remove final tab\n",
    "\t\tnewline = newline + \"\\n\" # add new line\n",
    "\t\tnewfile.write(newline)\n",
    "\n",
    "newfile.close()\n",
    "```\n",
    "\n",
    "Here is the code for the R script that I use to make a DAPC, adapted from Charlie's code (my lab mate):\n",
    "\n",
    "```\n",
    "# Let's first run a DAPC with all individuals and all loci\n",
    "data_all_loci <-read.genepop(\"bigsubset.gen\")\n",
    "names(data_all_loci)\n",
    "data_all_loci$pop\n",
    "\n",
    "pop_2005 <- rep(\"Y2005\",20)\n",
    "pop_2009 <- rep(\"Y2009\",2)\n",
    "pop_2010 <- rep(\"Y2010\", 38)\n",
    "pop_2014 <- rep(\"Y2014\",11)\n",
    "pop_2015 <- rep(\"Y2014\",10)\n",
    "\n",
    "pop_groups <- as.factor(c(rep(\"Y2005\",20),rep(\"Y2009\",2),rep(\"Y2010\", 38),rep(\"Y2014\",11),rep(\"Y2015\",10)))\n",
    "pop_labels <- c(pop_2005,pop_2009,pop_2010,pop_2014,pop_2015)\n",
    "pop_cols <- c(\"black\",\"dodgerblue\",\"tomato\",\"deepskyblue\",\"red\")\n",
    "\n",
    "dapc_all <- dapc(data_all_loci,data_all_loci$pop,n.pca=465,n.da=5) ##Retain all, then identify optimal number by optim.a.score\n",
    "test_a_score <- optim.a.score(dapc_all)\n",
    "dapc_all <- dapc(data_all_loci,data_all_loci$pop,n.pca=40,n.da=5) ##63 PC's is the optimal number\n",
    "\n",
    "#2D plot\n",
    "scatter(dapc_all,scree.da=FALSE,cellipse=0,leg=FALSE,label=c(\"2005\",\"2009\",\"2010\",\"2014\",\"2015\"),\n",
    "        posi.da=\"right\",csub=2,col=pop_cols,cex=1.5,clabel=1,pch=c(12,14,16,18,20),solid=1)\n",
    "legend(x = -4.5, y = 3,bty='n',legend=c(\"2005\",\"2009\",\"2010\",\"2014\",\"2015\"),pch=c(12,14,16,18,20),col=pop_cols,cex=1.3)\n",
    "```"
   ]
  },
  {
   "cell_type": "code",
   "execution_count": 4,
   "metadata": {
    "collapsed": false
   },
   "outputs": [
    {
     "name": "stdout",
     "output_type": "stream",
     "text": [
      "/Users/natalielowell/Desktop\n"
     ]
    }
   ],
   "source": [
    "cd Desktop"
   ]
  },
  {
   "cell_type": "markdown",
   "metadata": {},
   "source": [
    "For 200 loci:"
   ]
  },
  {
   "cell_type": "code",
   "execution_count": 6,
   "metadata": {
    "collapsed": false
   },
   "outputs": [],
   "source": [
    "!python subset_genepop_nloci.py batch_3_20k.gen 200"
   ]
  },
  {
   "cell_type": "markdown",
   "metadata": {},
   "source": [
    "For 500 loci:"
   ]
  },
  {
   "cell_type": "code",
   "execution_count": 7,
   "metadata": {
    "collapsed": true
   },
   "outputs": [],
   "source": [
    "!python subset_genepop_nloci.py batch_3_20k.gen 500"
   ]
  },
  {
   "cell_type": "markdown",
   "metadata": {},
   "source": [
    "^ after running my genepop file with 500 loci, I got the same stinking error!\n",
    "\n",
    "``Error in dudi.pca(x, center = center, scale = scale, scannf = FALSE, nf = maxRank) : \n",
    "  na entries in table``\n",
    "  \n",
    "  But strangely, I didn't get the error with 1000 or 2000 loci."
   ]
  },
  {
   "cell_type": "markdown",
   "metadata": {},
   "source": [
    "For 1000 loci:"
   ]
  },
  {
   "cell_type": "code",
   "execution_count": 8,
   "metadata": {
    "collapsed": true
   },
   "outputs": [],
   "source": [
    "!python subset_genepop_nloci.py batch_3_20k.gen 1000"
   ]
  },
  {
   "cell_type": "markdown",
   "metadata": {},
   "source": [
    "For 2000 loci:"
   ]
  },
  {
   "cell_type": "code",
   "execution_count": 9,
   "metadata": {
    "collapsed": true
   },
   "outputs": [],
   "source": [
    "!python subset_genepop_nloci.py batch_3_20k.gen 2000"
   ]
  },
  {
   "cell_type": "markdown",
   "metadata": {},
   "source": [
    "For 5000 loci:"
   ]
  },
  {
   "cell_type": "code",
   "execution_count": 10,
   "metadata": {
    "collapsed": true
   },
   "outputs": [],
   "source": [
    "!python subset_genepop_nloci.py batch_3_20k.gen 5000"
   ]
  },
  {
   "cell_type": "markdown",
   "metadata": {},
   "source": [
    "But! I got it again for 5000 loci!\n",
    "\n",
    "``Error in dudi.pca(x, center = center, scale = scale, scannf = FALSE, nf = maxRank) : \n",
    "  na entries in table``\n",
    "  \n",
    "This makes me think that's not something inherently wrong with a particular value in my genepop, otherwise it would affect all of them past the first one. So, I'm going to keep subsetting larger numbers of loci so I can hopefully find one that doesn't trigger the error and have something somewhat representative of my data."
   ]
  },
  {
   "cell_type": "markdown",
   "metadata": {},
   "source": [
    "For 10000 loci:"
   ]
  },
  {
   "cell_type": "code",
   "execution_count": 13,
   "metadata": {
    "collapsed": true
   },
   "outputs": [],
   "source": [
    "!python subset_genepop_nloci.py batch_3_20k.gen 9000"
   ]
  },
  {
   "cell_type": "markdown",
   "metadata": {},
   "source": [
    "And now the DAPC plots for each of these using the R code above that didn't trigger the warning:\n",
    "\n",
    "\n",
    "<br>\n",
    "#### 200 Loci\n",
    "![image](https://github.com/nclowell/FISH546/blob/master/Cod-Time-Series-Project/Notebooks/images_for_notebooks/200loci.jpeg?raw=true)\n",
    "\n",
    "<br>\n",
    "<br>\n",
    "#### 1000 loci\n",
    "![image](https://github.com/nclowell/FISH546/blob/master/Cod-Time-Series-Project/Notebooks/images_for_notebooks/1000loci.jpeg?raw=true)\n",
    "\n",
    "<br>\n",
    "<br>\n",
    "#### 2000 loci\n",
    "![image](https://github.com/nclowell/FISH546/blob/master/Cod-Time-Series-Project/Notebooks/images_for_notebooks/2000loci.jpeg?raw=true)\n",
    "\n"
   ]
  },
  {
   "cell_type": "code",
   "execution_count": null,
   "metadata": {
    "collapsed": true
   },
   "outputs": [],
   "source": []
  }
 ],
 "metadata": {
  "anaconda-cloud": {},
  "kernelspec": {
   "display_name": "Python [default]",
   "language": "python",
   "name": "python2"
  },
  "language_info": {
   "codemirror_mode": {
    "name": "ipython",
    "version": 2
   },
   "file_extension": ".py",
   "mimetype": "text/x-python",
   "name": "python",
   "nbconvert_exporter": "python",
   "pygments_lexer": "ipython2",
   "version": "2.7.12"
  }
 },
 "nbformat": 4,
 "nbformat_minor": 1
}
