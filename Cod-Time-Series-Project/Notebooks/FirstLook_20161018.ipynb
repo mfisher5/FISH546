{
 "cells": [
  {
   "cell_type": "markdown",
   "metadata": {},
   "source": [
    "# Familiarize myself with data #"
   ]
  },
  {
   "cell_type": "markdown",
   "metadata": {},
   "source": [
    "Change your working directory to the folder that contains your data."
   ]
  },
  {
   "cell_type": "markdown",
   "metadata": {},
   "source": [
    "QUESTION 1: Have the barcodes already been removed?"
   ]
  },
  {
   "cell_type": "code",
   "execution_count": 9,
   "metadata": {
    "collapsed": false
   },
   "outputs": [
    {
     "name": "stdout",
     "output_type": "stream",
     "text": [
      "/Users/natalielowell/Git-repos/FISH546/Cod-Time-Series-Project/Data\n"
     ]
    }
   ],
   "source": [
    "cd /Users/natalielowell/Git-repos/FISH546/Cod-Time-Series-Project/Data"
   ]
  },
  {
   "cell_type": "markdown",
   "metadata": {},
   "source": [
    "Unzip your data and pipe it to head, so you can see the first few entries."
   ]
  },
  {
   "cell_type": "code",
   "execution_count": 7,
   "metadata": {
    "collapsed": false
   },
   "outputs": [
    {
     "name": "stdout",
     "output_type": "stream",
     "text": [
      "@K00211:146:H7F5FBBXX:4:1101:6400:1156 1:N:0:NCCCCCCC\r\n",
      "TGCAGGCATGCATGCTTGCATGCACACATGGTATGGAAGACCAAAAGGGTCAAAACTAATGCTGTGTCTGAAATTGCGCACTTCTATACTTGCACTTACTTTTTTAAGAAAAACAATAAAATCTAAATTTTACAGTTGAGTTGA\r\n",
      "+\r\n",
      "`Veiiii`i`iieiieieei[`iiiiiii`iiieeiiiieeiLee``ee`iiiiiiiiii`iieViV`VLVV`ieii[`i`LeVeieiieL`iieLLV``L[`LL`iei`iii`iiL[ii`L`eiii[`[`eiiiVeeiii[`e\r\n",
      "@K00211:146:H7F5FBBXX:4:1101:17198:8963 1:N:0:CCTCCCCC\r\n",
      "TGCAGGATGGATCCATGCTGTTCTTACCTCTCAAGACTGTATGGCCTTCGGAGGAAACTTCCTCCACAACCTCAATATCGGCATGCAGCTCAGGTACACAGACCCCGCAGAACGGCACCAGACTGGTGCTTTAAGGATGAGCCT\r\n",
      "+\r\n",
      "`eeiiiiiiiiiiiiiiiiiiiiiiiiiiiiiiiiiiiiiiiiiiiiiiiiiiiiiiiiiiiiiiiiiiiiiiiiiiiiiiiiiiieiiiiiiiiiiiiiiiiiiiiiiieiiiiiiiiiiiiiiiiiieiiiiie`iieiiii\r\n",
      "@K00211:146:H7F5FBBXX:4:1101:3224:1209 1:N:0:NAACACAA\r\n",
      "TGCAGGTGTTAGTCCTCTCATTGTGGGTGTGGGTCCTTCTGTTGCGGATGTAGATCCTGCAGATGTTGTTGTTGCTACTGCGGTTGGCAGAAGTTCGGCAGTTGTTGTTTTTCGTCCTTTTGTTGATGGTCCTGCAGTGGTTTT\r\n",
      "+\r\n",
      "[eieiiiieeieieieeeiiieViiiie[iiiiiiiiiieii[eii`[eeiiei[LeeLe[ieV[V[eiL[V``e`iiee`i``eiieiiiiiiiieeiei[`iV``e`[``ieeLieVLeee[[eeVVeeiii``LV`eeLLL\r\n",
      "@K00211:146:H7F5FBBXX:4:1101:7852:1209 1:N:0:NCCCCCCC\r\n",
      "TGCAGGTAAAATCATTTGTTAACCTGATTTCTCAAGACCCTTTTTCTTTCGATAGATGATAACACCCTCAATATATCAGCTCTGCAGACCGTGTCTGCGCGGTGCTCATCTGAGAGCAGCTCATTGGTCCTTTACCTCTGTTCC\r\n",
      "+\r\n",
      "eV`eiiiiiiiiiiiiiiiiiiiiiiiiiiiiiiiiiiiiiiiiiiiiiiiiiiiiiiiiiiiiiiiiiiiiiiiiiiiiiiiiiiiiiiieiiiiiiiiii`eiiiiiiiiieiii`iieieee[eeii`eieiiiii``[`i\r\n",
      "@K00211:146:H7F5FBBXX:4:1101:4249:8998 1:N:0:AAAACAGA\r\n",
      "TGCAGGGGAATTGATTCTTCATCATCGGCTCTCCTCCTTCCAGTCTTCTGCCCACAAAATGCAGAGGGAGAGAGACATATACAGAAAGAGACAGAGAGAGAGGCATCGGCATAGGGAGAGAGAGAGAGAGAGAGAGAGAGAGAG\r\n",
      "+\r\n",
      "eeeiiiiiiiiiiiiiiiiiiiiiiiiiiiiiiiiiiiiiiiiiiiiiiiiiiiiiiiiiiiiiiiiiiiiiiiiiiiiiiiiiiiiiiiiiiiiiiiiiiieiiiiiiiiiiiiiiiiieeiiiiiiiiiiiiiiiii`iiii\r\n",
      "gunzip: error writing to output: Broken pipe\r\n",
      "gunzip: AAACGG_1.fq.gz: uncompress failed\r\n"
     ]
    }
   ],
   "source": [
    "!gunzip -c AAACGG_1.fq.gz | head -n 20"
   ]
  },
  {
   "cell_type": "markdown",
   "metadata": {},
   "source": [
    "ANSWER 1: YES. I searched for the barcode in the first few entries and couldn't find it."
   ]
  },
  {
   "cell_type": "markdown",
   "metadata": {},
   "source": [
    "QUESTION 2: Have the reads already been trimmed/do they need to be trimmed? "
   ]
  },
  {
   "cell_type": "code",
   "execution_count": null,
   "metadata": {
    "collapsed": true
   },
   "outputs": [],
   "source": []
  },
  {
   "cell_type": "markdown",
   "metadata": {},
   "source": [
    "ANSWER 2: I think so! Using fastqc, I saw that none of the quality scores ranged into the red, which looks like it's been trimmed."
   ]
  }
 ],
 "metadata": {
  "anaconda-cloud": {},
  "kernelspec": {
   "display_name": "Python [default]",
   "language": "python",
   "name": "python2"
  },
  "language_info": {
   "codemirror_mode": {
    "name": "ipython",
    "version": 2
   },
   "file_extension": ".py",
   "mimetype": "text/x-python",
   "name": "python",
   "nbconvert_exporter": "python",
   "pygments_lexer": "ipython2",
   "version": "2.7.12"
  }
 },
 "nbformat": 4,
 "nbformat_minor": 1
}
