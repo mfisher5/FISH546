{
 "cells": [
  {
   "cell_type": "markdown",
   "metadata": {},
   "source": [
    "## STACKS + Pipeline for Population Genomics Analysis\n",
    "\n",
    "This is the full pipeline that I'm using to analyze my Pacific cod time series data, and I'm hoping to be able to use on future projects as well.\n",
    "\n",
    "Our lab uses Bowtie and BLAST to filter down our catalog of loci into a de novo reference genome. I wasn't sure that I'd have enough time to do this by the end of the quarter, but now it feels like it's worth a try. I'm going to copy and paste from my other Full Pipeline notebook, but add in the Bowtie and BLAST steps here."
   ]
  },
  {
   "cell_type": "markdown",
   "metadata": {},
   "source": [
    "#### Go to working directory"
   ]
  },
  {
   "cell_type": "code",
   "execution_count": 1,
   "metadata": {
    "collapsed": false
   },
   "outputs": [
    {
     "name": "stdout",
     "output_type": "stream",
     "text": [
      "[Errno 2] No such file or directory: '/Volumes/Time Machine Backups/Cod-Time-Series-Data/'\n",
      "/Users/natalielowell/Git-repos/FISH546/Cod-Time-Series-Project/Notebooks\n"
     ]
    }
   ],
   "source": [
    "cd /Volumes/Time\\ Machine\\ Backups/Cod-Time-Series-Data/ "
   ]
  },
  {
   "cell_type": "markdown",
   "metadata": {},
   "source": [
    "#### Adding library identifier to file names\n",
    "\n",
    "If you are analyzing data run on multiple lanes, it may be useful to rename your files such that they have the unique library identifier (eg., \\_L1 or \\_L2) because barcodes will be redundant between libraries. I wrote a [script](https://github.com/nclowell/FISH546/blob/master/Cod-Time-Series-Project/Scripts/add_lib_to_filename.py) that will add this to your filenames.\n",
    "\n"
   ]
  },
  {
   "cell_type": "code",
   "execution_count": null,
   "metadata": {
    "collapsed": true
   },
   "outputs": [],
   "source": [
    "!python add_lib_to_filename.py process_radtags_out/cod_lib1 _L1"
   ]
  },
  {
   "cell_type": "code",
   "execution_count": null,
   "metadata": {
    "collapsed": true
   },
   "outputs": [],
   "source": [
    "!python add_lib_to_filename.py process_radtags_out/cod_lib2 _L2"
   ]
  },
  {
   "cell_type": "markdown",
   "metadata": {},
   "source": [
    "#### Running ``ustacks``\n",
    "\n",
    "``ustacks`` [documentation](http://catchenlab.life.illinois.edu/stacks/comp/ustacks.php) highlights:\n",
    "\n",
    "<br>ustacks -t file_type -f file_path [-d] [-r] [-o path] [-i id] [-m min_cov] [-M max_dist] [-p num_threads] [-R] [-H] [-h]\n",
    "<br>t — input file Type. Supported types: fasta, fastq, gzfasta, or gzfastq.\n",
    "<br>f — input file path.\n",
    "<br>o — output path to write results.\n",
    "<br>i — SQL ID to insert into the output to identify this sample.\n",
    "<br>m — Minimum depth of coverage required to create a stack (default 2).\n",
    "<br>M — Maximum distance (in nucleotides) allowed between stacks (default 2).\n",
    "<br>N — Maximum distance allowed to align secondary reads to primary stacks (default: M + 2).\n",
    "<br>R — retain unused reads.\n",
    "<br>H — disable calling haplotypes from secondary reads.\n",
    "<br>p — enable parallel execution with num_threads threads.\n",
    "<br>h — display this help messsage.\n",
    "\n",
    "<br>\n",
    "<br>\n",
    "Running custom python [script for ``ustacks``](https://github.com/nclowell/FISH546/blob/master/Cod-Time-Series-Project/Scripts/pypipe_ustacks.py):"
   ]
  },
  {
   "cell_type": "code",
   "execution_count": null,
   "metadata": {
    "collapsed": true
   },
   "outputs": [],
   "source": [
    "!python pypipe_ustacks.py barcodes_samplenames.txt ./process_radtags_out ./ustacks_out"
   ]
  },
  {
   "cell_type": "markdown",
   "metadata": {},
   "source": [
    "#### Running ``cstacks``\n"
   ]
  }
 ],
 "metadata": {
  "anaconda-cloud": {},
  "kernelspec": {
   "display_name": "Python [default]",
   "language": "python",
   "name": "python2"
  },
  "language_info": {
   "codemirror_mode": {
    "name": "ipython",
    "version": 2
   },
   "file_extension": ".py",
   "mimetype": "text/x-python",
   "name": "python",
   "nbconvert_exporter": "python",
   "pygments_lexer": "ipython2",
   "version": "2.7.12"
  }
 },
 "nbformat": 4,
 "nbformat_minor": 1
}
