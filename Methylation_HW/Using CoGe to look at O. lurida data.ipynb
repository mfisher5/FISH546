{
 "cells": [
  {
   "cell_type": "markdown",
   "metadata": {},
   "source": [
    "## Homework Objectives\n",
    "(1) use CoGe to determine DNA methylation in my oyster sample zr1394_15_s6_R1.fastq\n",
    "<br>(2) find a region that is interesting (ie lots of DNA methylation)\n",
    "<br>(3) use blast to identify a sequence in your taxa of interest that is related\n",
    "<br>(4) document everything in this notebook & drop URL in HW issue"
   ]
  },
  {
   "cell_type": "markdown",
   "metadata": {},
   "source": [
    "<br><br>\n",
    "#### Getting Started with CoGe"
   ]
  },
  {
   "cell_type": "markdown",
   "metadata": {},
   "source": [
    "I made an account on CoGe and followed Steven's animated GIF to make a new experiment using the oyster sample file I was assigned in class."
   ]
  },
  {
   "cell_type": "markdown",
   "metadata": {},
   "source": [
    "![image](https://github.com/nclowell/FISH546/blob/master/Methylation_HW/images_for_notebook/Screen%20Shot%202016-11-11%20at%2010.37.34%20AM.png?raw=true)"
   ]
  },
  {
   "cell_type": "markdown",
   "metadata": {},
   "source": [
    "I can explore the sequene and patterns of methylation by viewing each type of methylation in the notebook. Below, I'm browsing CPG methylation and I zoomed in on a region that has a lot of methylation."
   ]
  },
  {
   "cell_type": "markdown",
   "metadata": {},
   "source": [
    "![image](https://github.com/nclowell/FISH546/blob/master/Methylation_HW/images_for_notebook/Screen%20Shot%202016-11-11%20at%2010.34.27%20AM.png?raw=true)\n",
    "<br><br>\n",
    "\n"
   ]
  },
  {
   "cell_type": "markdown",
   "metadata": {},
   "source": [
    "#### Finding a region with lots of DNA methylation"
   ]
  },
  {
   "cell_type": "markdown",
   "metadata": {},
   "source": [
    "I browsed around using the zoom tools and found plenty of methylation in this region:\n",
    "<br>\n",
    "![image](https://github.com/nclowell/FISH546/blob/master/Methylation_HW/images_for_notebook/Screen%20Shot%202016-11-11%20at%2010.33.03%20AM.png?raw=true)"
   ]
  },
  {
   "cell_type": "markdown",
   "metadata": {},
   "source": [
    "This region is bp 62400-62650 on "
   ]
  },
  {
   "cell_type": "markdown",
   "metadata": {},
   "source": [
    "#### Using BLAST to identify a sequence in my taxa of interest that is related"
   ]
  },
  {
   "cell_type": "markdown",
   "metadata": {},
   "source": [
    "First, I need to identify the DNA sequence that has not been enriched to identify areas of methylation. To do this, I can use the location specified in the file and look up that same region in a DNA sequence in BLAST."
   ]
  },
  {
   "cell_type": "markdown",
   "metadata": {},
   "source": []
  },
  {
   "cell_type": "markdown",
   "metadata": {},
   "source": []
  }
 ],
 "metadata": {
  "anaconda-cloud": {},
  "kernelspec": {
   "display_name": "Python [default]",
   "language": "python",
   "name": "python2"
  },
  "language_info": {
   "codemirror_mode": {
    "name": "ipython",
    "version": 2
   },
   "file_extension": ".py",
   "mimetype": "text/x-python",
   "name": "python",
   "nbconvert_exporter": "python",
   "pygments_lexer": "ipython2",
   "version": "2.7.12"
  }
 },
 "nbformat": 4,
 "nbformat_minor": 1
}
