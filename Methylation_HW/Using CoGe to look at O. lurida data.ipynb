{
 "cells": [
  {
   "cell_type": "markdown",
   "metadata": {},
   "source": [
    "## Homework Objectives\n",
    "(1) use CoGe to determine DNA methylation in my oyster sample zr1394_15_s6_R1.fastq\n",
    "<br>(2) find a region that is interesting (ie lots of DNA methylation)\n",
    "<br>(3) use blast to identify a sequence in your taxa of interest that is related\n",
    "<br>(4) document everything in this notebook & drop URL in HW issue"
   ]
  },
  {
   "cell_type": "markdown",
   "metadata": {},
   "source": [
    "<br><br>\n",
    "## Getting Started with CoGe"
   ]
  },
  {
   "cell_type": "markdown",
   "metadata": {},
   "source": [
    "I made an account on CoGe and followed Steven's animated GIF to make a new experiment using the oyster sample file I was assigned in class."
   ]
  },
  {
   "cell_type": "markdown",
   "metadata": {},
   "source": [
    "[image]()"
   ]
  }
 ],
 "metadata": {
  "anaconda-cloud": {},
  "kernelspec": {
   "display_name": "Python [default]",
   "language": "python",
   "name": "python2"
  },
  "language_info": {
   "codemirror_mode": {
    "name": "ipython",
    "version": 2
   },
   "file_extension": ".py",
   "mimetype": "text/x-python",
   "name": "python",
   "nbconvert_exporter": "python",
   "pygments_lexer": "ipython2",
   "version": "2.7.12"
  }
 },
 "nbformat": 4,
 "nbformat_minor": 1
}
