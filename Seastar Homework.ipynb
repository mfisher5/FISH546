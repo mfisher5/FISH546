{
 "cells": [
  {
   "cell_type": "markdown",
   "metadata": {
    "collapsed": false
   },
   "source": [
    "First, download the countdata and fasta file from Steven's git hub. I downloaded the count data manually, and here I downloaded the FASTA with ``curl``"
   ]
  },
  {
   "cell_type": "code",
   "execution_count": 3,
   "metadata": {
    "collapsed": false
   },
   "outputs": [
    {
     "name": "stdout",
     "output_type": "stream",
     "text": [
      "  % Total    % Received % Xferd  Average Speed   Time    Time     Time  Current\n",
      "                                 Dload  Upload   Total   Spent    Left  Speed\n",
      "100 39.4M  100 39.4M    0     0  5073k      0  0:00:07  0:00:07 --:--:-- 7878k\n"
     ]
    }
   ],
   "source": [
    "#curl source_url > relative_path\n",
    "!curl https://raw.githubusercontent.com/sr320/eimd-sswd/master/data/Phel_transcriptome.fasta > Phel_transcriptome.fa "
   ]
  },
  {
   "cell_type": "markdown",
   "metadata": {
    "collapsed": true
   },
   "source": [
    "Familiarize myself with the data using ``head``"
   ]
  },
  {
   "cell_type": "code",
   "execution_count": null,
   "metadata": {
    "collapsed": true
   },
   "outputs": [],
   "source": [
    "cd /Users/natalielowell/Desktop/Seastar-HW"
   ]
  },
  {
   "cell_type": "code",
   "execution_count": 5,
   "metadata": {
    "collapsed": false
   },
   "outputs": [
    {
     "name": "stdout",
     "output_type": "stream",
     "text": [
      ">Phel_contig_1\r\n",
      "CAAATATATGAACGGTTGATTGTCAACGATTAGTACATGTTTTCATTGTTCCCCACGCCCGCCCCCCCCCACTCAAACATTTAAAGTGTGAAATATTATTTATCCACAAATTTCCTTAAACCTGCAAACTTGTCTGCTGTCTCTTATTGGAAGTTATGAAAAAGAACAACGGGTTTTCTTTAAAGGGTCTGCGTGCGATTTTCAACCTTTTGAGTAATAGCAGTTATTTTGATAACCGATTTTTTTCAAAGCTCAACAGCTTTTTAAAATAAGGAATCCTATAATGGCCAAACGAATACTATAAAAATAAGGGTTCTCTTAATTGTATAAAACGTATAATTTTATCAATTTTGGGACCGTGTAATTTTTTAAAGACCACAAGAATGTTACATACAACAAATAGACGAAACTCGTAGCTTTGGAAACTACGTCATGGGCGTTTGGTCAAAAGCTGGAGAGAAAGAGAGGTGGGGTGCCAGACTTAAGTAGTCACGTGATCTGACCAACGCACATCGGAAGCTCGATCGGATGAAATCTTCTCTATCGTTCTTGCGTCTATACGTGCTACGAAGAGCTGACAGAAGTTTGGACTTGTTTACTTCTTGCACCTGTTGATGGAACGGCCACGGACCTTGTCGCACGCACACCTGGAGCCAGTGCTCGGATCGACGCAACGGATGTACTGTCTTCCCCTTCCGCGTTTCTCAAGTAGGTACTCAAAGTCGTCCGCGTCGAAGTTGGCCTCGGCGTCCCTCTTCTCCAGCTCCTCCATGTCCTCCTCTGTGTAGTACGGGGTGACGAGCACCACCAGGGCGGCCACAATGGCCAGTGCTAGAAGACACTTCGTATTCATTCTGCTGGTGGTTGGATGTGCGCAAACAAGACAGGAGAGACTTATTAGAATC\r\n"
     ]
    }
   ],
   "source": [
    "# First 2 lines\n",
    "!head -n 2 Phel_transcriptome.fa"
   ]
  },
  {
   "cell_type": "code",
   "execution_count": 6,
   "metadata": {
    "collapsed": false
   },
   "outputs": [
    {
     "name": "stdout",
     "output_type": "stream",
     "text": [
      "Feature ID\tTreated_FHL - Total gene reads\tTreated_PH - Total gene reads\tTreated_L - Total gene reads\tControl_FHL - Total gene reads\tControl_DB - Total gene reads\tControl_PH - Total gene reads\r\n",
      "Phel_contig_1\t168\t37\t8\t89\t28\t38\r\n"
     ]
    }
   ],
   "source": [
    "# First 2 lines\n",
    "!head -n 2 Phel_countdata.txt"
   ]
  },
  {
   "cell_type": "markdown",
   "metadata": {},
   "source": [
    "Adjusted the diff exp genes file manually in text wrangler and with the following script to remove ``\"`` and to take just seq name.\n",
    "\n",
    "``import sys\n",
    "myfile = open(sys.argv[1], \"r\")\t\t\t\t\n",
    "new_file = open(\"justnames.txt\", \"w\") \n",
    "for line in myfile:\t\t\t\t\t\t   \n",
    "\tlinelist=line.strip().split(\" \")\t\t   \n",
    "\tnew_file.write(linelist[0] + \"\\n\")\n",
    "myfile.close()\n",
    "new_file.close()``\n",
    "\n",
    "^ this script is also in my FISH546 repo called ``justnames.py``"
   ]
  },
  {
   "cell_type": "markdown",
   "metadata": {},
   "source": [
    "<br><br><br>\n",
    "### Merged transcriptome file with diff exp genes file in R, a python script, and in Text Wrangler. R code used can be found in my git repo FISH546 and also below\n",
    "\n",
    "##### Merge full transcriptome w tmp.sig to get just names and seqs of significantly diff exp genes\n",
    "\n",
    "##### Manually changed transcriptome fasta to tab delimited file in text wrangler by replacing /n with /t and then replacing > with /n\n",
    "##### Manually removed quotations from names in text wrangler for dif exp gene file\n",
    "##### Bring edited dif exp gene file back in\n",
    "\n",
    "\n",
    "##### Read in names of diff exp genes file\n",
    "``newdif <- read.csv(\"justnames.txt\", header = T, sep = \"\\t\")\n",
    "head(newdif) # check\n",
    "names(newdif)[1] <- \"Name\"``\n",
    "\n",
    "##### Read in transcriptome file\n",
    "``Phel_transcriptome_tab <- read.delim(\"~/Desktop/Seastar-HW/Phel_transcriptome_tab.txt\", header=FALSE)\n",
    "trans <- Phel_transcriptome_tab\n",
    "head(trans)\n",
    "names(trans)[1:2] <- c(\"Name\", \"Seq\")``\n",
    "\n",
    "##### Merge files by name\n",
    "``merged <- merge(newdif, trans, by = \"Name\", all.y = FALSE)\n",
    "head(merged)``\n",
    "\n",
    "##### Check that merge worked\n",
    "Get length of just names file, then see if matches length of merged file###\n",
    "``nrow(newdif)\n",
    "nrow(merged)`` \n",
    "\n",
    "``write.table(merged[,1:2], file = \"signames_seqs.txt\", sep = \"\\n\", row.names = FALSE, col.names = FALSE)``"
   ]
  },
  {
   "cell_type": "markdown",
   "metadata": {},
   "source": [
    "<br><br>Removed quotations in textwrangler and put in carrots by searching and replacing ``Phel_`` with ``>Phel_``"
   ]
  },
  {
   "cell_type": "markdown",
   "metadata": {},
   "source": [
    "Made a database using this new fasta file:"
   ]
  },
  {
   "cell_type": "code",
   "execution_count": null,
   "metadata": {
    "collapsed": true
   },
   "outputs": [],
   "source": [
    "!makeblastdb -in signames_seqs.fasta -dbtype nucl -out classdb"
   ]
  },
  {
   "cell_type": "code",
   "execution_count": 9,
   "metadata": {
    "collapsed": false
   },
   "outputs": [
    {
     "name": "stdout",
     "output_type": "stream",
     "text": [
      "/bin/sh: blastn: command not found\r\n"
     ]
    }
   ],
   "source": [
    "!blastn -query Gadus_morhua.gadMor1.cdna.all.fa -db classdb -num_threads 3 -evalue 1e-20 -outfmt 6 -out classtest.out.txt -max_target_seqs 5"
   ]
  },
  {
   "cell_type": "code",
   "execution_count": 10,
   "metadata": {
    "collapsed": false
   },
   "outputs": [
    {
     "name": "stdout",
     "output_type": "stream",
     "text": [
      ">ENSGMOT00000012564.1 cdna genescaffold:gadMor1:GeneScaffold_2026:187345:189423:-1 gene:ENSGMOG00000011450.1 gene_biotype:protein_coding transcript_biotype:protein_coding gene_symbol:TUBA1C description:tubulin alpha 1c [Source:HGNC Symbol;Acc:HGNC:20768]\r\n"
     ]
    }
   ],
   "source": [
    "!grep 'ENSGMOT00000012564.1' Gadus_morhua.gadMor1.cdna.all.fa"
   ]
  }
 ],
 "metadata": {
  "anaconda-cloud": {},
  "kernelspec": {
   "display_name": "Python [default]",
   "language": "python",
   "name": "python2"
  },
  "language_info": {
   "codemirror_mode": {
    "name": "ipython",
    "version": 2
   },
   "file_extension": ".py",
   "mimetype": "text/x-python",
   "name": "python",
   "nbconvert_exporter": "python",
   "pygments_lexer": "ipython2",
   "version": "2.7.12"
  }
 },
 "nbformat": 4,
 "nbformat_minor": 1
}
